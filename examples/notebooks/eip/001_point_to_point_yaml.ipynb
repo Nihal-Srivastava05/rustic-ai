{
 "cells": [
  {
   "cell_type": "markdown",
   "id": "54a06fa3",
   "metadata": {},
   "source": [
    "## P2P Messaging (From YAML guild spec)\n",
    "This notebook demonstrates the P2P messaging from 1 agent to another using Agent self topic in the RoutingRule.\n",
    "\n",
    "Every Agent in the system is always listening to a special topic dedicated to it `agent_self_inbox:{agent_id}` and `agent_inbox:{agent_id}` defined in dsl.py under GuildTopics.\n",
    "\n",
    "What we will demonstrate here -\n",
    "\n",
    "[_ProbeAgent_] -> (default_topic) -> [_Agent1_]\n",
    "\n",
    "[_Agent1_] -> |**P2P Routing Rule**| -> (agent_self_inbox:Agent2) -> [_Agent2_]\n",
    "\n",
    "[_Agent2_] -> |**A2 To Default Rule**| -> (topic_2) -> [_ProbeAgent_]"
   ]
  },
  {
   "cell_type": "code",
   "execution_count": 1,
   "id": "42f1e76c",
   "metadata": {},
   "outputs": [
    {
     "name": "stderr",
     "output_type": "stream",
     "text": [
      "WARNING:root:Dependencies configuration file not found.\n"
     ]
    }
   ],
   "source": [
    "from rustic_ai.core.guild.builders import GuildBuilder\n",
    "\n",
    "guild_builder = GuildBuilder.from_yaml_file(\"./001_point_to_point.yaml\")\n",
    "guild = guild_builder.launch(\"myorg\")"
   ]
  },
  {
   "cell_type": "code",
   "execution_count": 2,
   "id": "eadff316",
   "metadata": {},
   "outputs": [],
   "source": [
    "from rustic_ai.core.agents.testutils.probe_agent import ProbeAgent\n",
    "from rustic_ai.core.guild.builders import AgentBuilder\n",
    "\n",
    "\n",
    "probe_agent = (\n",
    "    AgentBuilder(ProbeAgent)\n",
    "    .set_name(\"ProbeAgent\")\n",
    "    .set_description(\"An agent to probe the guild\")\n",
    "    .add_additional_topic(\"topic_2\")\n",
    "    .build()\n",
    ")\n",
    "\n",
    "guild._add_local_agent(probe_agent)"
   ]
  },
  {
   "cell_type": "code",
   "execution_count": 3,
   "id": "863a2319",
   "metadata": {},
   "outputs": [
    {
     "data": {
      "text/plain": [
       "<rustic_ai.core.utils.gemstone_id.GemstoneID at 0x7faeb4048dd0>"
      ]
     },
     "execution_count": 3,
     "metadata": {},
     "output_type": "execute_result"
    }
   ],
   "source": [
    "from rustic_ai.core.guild.dsl import GuildTopics\n",
    "\n",
    "\n",
    "probe_agent.publish_dict_with_guild_route(payload={\"content\": \"Hello from ProbeAgent!\"}, topic=GuildTopics.DEFAULT_TOPICS[0])"
   ]
  },
  {
   "cell_type": "code",
   "execution_count": 4,
   "id": "b9371eb9",
   "metadata": {},
   "outputs": [
    {
     "name": "stdout",
     "output_type": "stream",
     "text": [
      "(default_topic) -> [Agent1/agent1:wire_message] -> (agent_inbox:agent2)\n",
      "(agent_inbox:agent2) -> [Agent2/agent2:wire_message] -> (topic_2)\n"
     ]
    }
   ],
   "source": [
    "probe_agent.print_message_history(-1)"
   ]
  },
  {
   "cell_type": "code",
   "execution_count": null,
   "id": "eb591d56",
   "metadata": {},
   "outputs": [],
   "source": []
  }
 ],
 "metadata": {
  "kernelspec": {
   "display_name": "rusticai-python-framework-mrvUAtfg-py3.12",
   "language": "python",
   "name": "python3"
  },
  "language_info": {
   "codemirror_mode": {
    "name": "ipython",
    "version": 3
   },
   "file_extension": ".py",
   "mimetype": "text/x-python",
   "name": "python",
   "nbconvert_exporter": "python",
   "pygments_lexer": "ipython3",
   "version": "3.12.11"
  }
 },
 "nbformat": 4,
 "nbformat_minor": 5
}
