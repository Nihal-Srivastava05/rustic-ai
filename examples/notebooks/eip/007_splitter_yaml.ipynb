{
 "cells": [
  {
   "cell_type": "markdown",
   "id": "32eacf9c",
   "metadata": {},
   "source": [
    "## 💡 Splitter Pattern Flow Summary: Purchase Order Processing\n",
    "\n",
    "This implementation demonstrates the **Splitter** Enterprise Integration Pattern in the **Rustic AI** framework, specifically designed for modular and scalable purchase order processing.\n",
    "\n",
    "---\n",
    "\n",
    "### 📦 Scenario\n",
    "\n",
    "A client sends a **`PurchaseOrderRequest`** containing multiple items. Each item needs to be processed independently — such as validation, inventory check, or fulfillment. To achieve this, the message is **split** into individual per-item messages, which are then routed downstream for further handling.\n",
    "\n",
    "---\n",
    "\n",
    "### 🧠 Key Concepts Demonstrated\n",
    "\n",
    "#### ✅ Splitter Agent (`Purchase Order Splitter`)\n",
    "\n",
    "* **Input:** `PurchaseOrderRequest` with list of items.\n",
    "* **Behavior:** Splits the items into individual `ItemProcessingResult` messages.\n",
    "* **Output:** Sends each split item to the topic `item_processing_results`.\n",
    "\n",
    "#### 🔀 Routing and Traceability\n",
    "\n",
    "* Each outgoing message maintains a full **message history** and **routing slip**, ensuring auditability and traceability.\n",
    "* The `SplitAndSend` method logs:\n",
    "\n",
    "  * Original message index\n",
    "  * Origin topic (`purchase_orders`)\n",
    "  * Destination topic (`item_processing_results`)\n",
    "  * Agent and processor involved\n",
    "\n",
    "#### 🔂 Message Breakdown\n",
    "\n",
    "* Each item (e.g., `{id: item-001, quantity: 2}`) is turned into an individual message.\n",
    "* These messages can now be routed independently — allowing parallel or asynchronous downstream processing.\n",
    "\n",
    "---\n",
    "\n",
    "### 🔎 Message Trace Example\n",
    "\n",
    "#### Input Message:\n",
    "\n",
    "```python\n",
    "PurchaseOrderRequest(id=\"PO-12345\", items=[{\"id\": \"item-001\", \"quantity\": 2}, {\"id\": \"item-002\", \"quantity\": 1}])\n",
    "```\n",
    "\n",
    "#### Splitter Output:\n",
    "\n",
    "Two distinct `ItemProcessingResult` messages sent to `item_processing_results`:\n",
    "\n",
    "```python\n",
    "Message 0: {'id': 'item-001', 'quantity': 2}\n",
    "Message 1: {'id': 'item-002', 'quantity': 1}\n",
    "```\n",
    "\n",
    "#### Trace:\n",
    "\n",
    "```\n",
    "Message at index 0:\n",
    "  purchase_orders → [Purchase Order Splitter/SplitterAgent:split_and_send] → item_processing_results\n",
    "\n",
    "Message at index 1:\n",
    "  purchase_orders → [Purchase Order Splitter/SplitterAgent:split_and_send] → item_processing_results\n",
    "```\n",
    "\n",
    "---\n",
    "\n",
    "### 🧩 EIP Pattern Context\n",
    "\n",
    "#### Pattern Used: **Splitter**\n",
    "\n",
    "#### 🔧 Components Involved:\n",
    "\n",
    "* `SplitterAgent`: Implements the splitting logic\n",
    "* `RoutingSlip`: Carries delivery metadata\n",
    "* `ProcessEntry`: Captures routing history for observability\n",
    "* `Topic-Based Dispatch`: Each split message is published to a specific topic (`item_processing_results`)\n",
    "\n",
    "---\n",
    "\n",
    "### 🔁 Why Use the Splitter Pattern?\n",
    "\n",
    "This pattern is ideal for scenarios such as:\n",
    "\n",
    "* Multi-item processing in procurement and logistics\n",
    "* Handling composite tasks like batch uploads, multi-sensor data, or survey responses\n",
    "* Distributing subtasks for concurrent processing\n",
    "\n",
    "---\n",
    "\n",
    "### ✅ Benefits\n",
    "\n",
    "* **Scalable**: Each item can be processed in parallel.\n",
    "* **Modular**: Logic separation between splitting and downstream processing.\n",
    "* **Auditable**: Full trace of message lifecycle via routing slips and history.\n",
    "* **Reusable**: Works with any `ListSplitter` + downstream agents or transformers (e.g., `FormatSelector`, `TransformerAgent`).\n",
    "\n",
    "---\n",
    "\n",
    "### 🧬 Pattern Summary\n",
    "\n",
    "```\n",
    "1 Purchase Order → N Item Tasks → Parallel Processing\n",
    "```\n",
    "\n",
    "This design ensures clean separation of responsibilities and sets the stage for further EIP integrations like **Content-Based Router**, **Aggregator**, or **Resequencer**."
   ]
  },
  {
   "cell_type": "code",
   "execution_count": 1,
   "id": "5e1da4ce",
   "metadata": {},
   "outputs": [],
   "source": [
    "from typing import Any, Dict, List, Optional\n",
    "from pydantic import BaseModel\n",
    "\n",
    "class PurchaseOrderRequest(BaseModel):\n",
    "    order_id: str\n",
    "    items: List[Dict[str, Any]]\n",
    "    customer: str\n",
    "\n",
    "\n",
    "class ItemOrderList(BaseModel):\n",
    "    item1: Dict\n",
    "    item2: Dict\n",
    "\n",
    "\n",
    "class ItemProcessingResult(BaseModel):\n",
    "    id: Optional[str]\n",
    "    quantity: Optional[int]\n"
   ]
  },
  {
   "cell_type": "code",
   "execution_count": 2,
   "id": "04d6f116",
   "metadata": {},
   "outputs": [
    {
     "name": "stderr",
     "output_type": "stream",
     "text": [
      "WARNING:root:Dependencies configuration file not found.\n"
     ]
    },
    {
     "name": "stderr",
     "output_type": "stream",
     "text": [
      "WARNING:root:Dependencies configuration file not found.\n"
     ]
    }
   ],
   "source": [
    "# Build the scatter-gather guild with bootstrap for state management\n",
    "import os\n",
    "\n",
    "from rustic_ai.core.guild.builders import GuildBuilder\n",
    "from rustic_ai.core.guild.metastore.database import Metastore\n",
    "\n",
    "guild_builder = GuildBuilder.from_yaml_file(\"./007_splitter.yaml\")\n",
    "\n",
    "# Bootstrap the guild so we have GuildManager for state management\n",
    "db = \"sqlite:///splitter_demo.db\"\n",
    "\n",
    "if os.path.exists(\"splitter_demo.db\"):\n",
    "    os.remove(\"splitter_demo.db\")\n",
    "\n",
    "Metastore.initialize_engine(db)\n",
    "Metastore.get_engine(db)\n",
    "Metastore.create_db()\n",
    "\n",
    "guild = guild_builder.bootstrap(metastore_database_url=db, organization_id=\"myorg\")  # Use SQLite for simplicity"
   ]
  },
  {
   "cell_type": "code",
   "execution_count": 3,
   "id": "93a40f11",
   "metadata": {},
   "outputs": [],
   "source": [
    "import time\n",
    "\n",
    "from rustic_ai.core.agents.testutils.probe_agent import ProbeAgent\n",
    "from rustic_ai.core.guild.builders import AgentBuilder\n",
    "\n",
    "time.sleep(2)\n",
    "\n",
    "# Create probe agent to monitor the entire flow\n",
    "probe_spec = (\n",
    "    AgentBuilder(ProbeAgent)\n",
    "    .set_id(\"TestProbe\")\n",
    "    .set_name(\"Test Probe Agent\")\n",
    "    .set_description(\"Monitors the entire scatter-gather flow\")\n",
    "    .add_additional_topic(\"purchase_orders\") # Initial request\n",
    "    .add_additional_topic(\"item_processing_results\")  # Final results\n",
    "    .build_spec()\n",
    ")\n",
    "\n",
    "# Add probe agent to the bootstrapped guild\n",
    "probe_agent: ProbeAgent = guild._add_local_agent(probe_spec)  # type: ignore"
   ]
  },
  {
   "cell_type": "code",
   "execution_count": 4,
   "id": "5b0ea83b",
   "metadata": {},
   "outputs": [
    {
     "name": "stdout",
     "output_type": "stream",
     "text": [
      "Sending PurchaseOrderRequest with ID: PO-12345\n",
      "Items: [{'id': 'item-001', 'quantity': 2}, {'id': 'item-002', 'quantity': 1}]\n"
     ]
    },
    {
     "data": {
      "text/plain": [
       "<rustic_ai.core.utils.gemstone_id.GemstoneID at 0x7f537c4ef6b0>"
      ]
     },
     "execution_count": 4,
     "metadata": {},
     "output_type": "execute_result"
    }
   ],
   "source": [
    "# Create test data for analysis\n",
    "test_order = PurchaseOrderRequest(\n",
    "    order_id=\"PO-12345\",\n",
    "    customer=\"ACME Corp\",\n",
    "    items=[{\"id\": \"item-001\", \"quantity\": 2}, {\"id\": \"item-002\", \"quantity\": 1}],\n",
    ")\n",
    "\n",
    "\n",
    "print(f\"Sending PurchaseOrderRequest with ID: {test_order.order_id}\")\n",
    "print(f\"Items: {test_order.items}\")\n",
    "\n",
    "# Send through probe agent to trigger the scatter-gather flow\n",
    "probe_agent.publish_with_guild_route(topic=\"purchase_orders\", payload=test_order)"
   ]
  },
  {
   "cell_type": "code",
   "execution_count": 5,
   "id": "af3dbbc5",
   "metadata": {},
   "outputs": [
    {
     "name": "stdout",
     "output_type": "stream",
     "text": [
      "\n",
      "For message at index 0 (9567363465551548416):\n",
      "\t(purchase_orders) -> [Purchase Order Splitter/SplitterAgent:split_and_send] -> (item_processing_results)\n",
      "\n",
      "For message at index 1 (9567363465694154752):\n",
      "\t(purchase_orders) -> [Purchase Order Splitter/SplitterAgent:split_and_send] -> (item_processing_results)\n"
     ]
    }
   ],
   "source": [
    "# Let's check the message history to see the complete flow\n",
    "probe_agent.print_all_history()"
   ]
  },
  {
   "cell_type": "code",
   "execution_count": 6,
   "id": "5b5949b8",
   "metadata": {},
   "outputs": [
    {
     "data": {
      "text/plain": [
       "[Message(sender=AgentTag(id='SplitterAgent', name='Purchase Order Splitter'), topics='item_processing_results', recipient_list=[], payload={'id': 'item-001', 'quantity': 2}, format='__main__.ItemProcessingResult', in_response_to=9567363465480249344, thread=[9567363465480249344], conversation_id=None, forward_header=None, routing_slip=RoutingSlip(steps=[RoutingRule(agent=AgentTag(id=None, name='Purchase Order Splitter'), agent_type=None, method_name=None, origin_filter=None, message_format='__main__.ItemProcessingResult', destination=RoutingDestination(topics='item_processing_results', recipient_list=[], priority=None), mark_forwarded=False, route_times=-2, transformer=None, agent_state_update=None, guild_state_update=None, process_status=None)]), message_history=[ProcessEntry(agent=AgentTag(id='SplitterAgent', name='Purchase Order Splitter'), origin=9567363465480249344, result=9567363465551548416, processor='split_and_send', from_topic='purchase_orders', to_topics=['item_processing_results'])], ttl=None, is_error_message=False, traceparent=None, session_state={}, topic_published_to='item_processing_results', enrich_with_history=0, process_status=None, id=9567363465551548416, priority=<Priority.NORMAL: 4>, timestamp=1754545147653, current_thread_id=9567363465480249344, root_thread_id=9567363465480249344),\n",
       " Message(sender=AgentTag(id='SplitterAgent', name='Purchase Order Splitter'), topics='item_processing_results', recipient_list=[], payload={'id': 'item-002', 'quantity': 1}, format='__main__.ItemProcessingResult', in_response_to=9567363465480249344, thread=[9567363465480249344], conversation_id=None, forward_header=None, routing_slip=RoutingSlip(steps=[RoutingRule(agent=AgentTag(id=None, name='Purchase Order Splitter'), agent_type=None, method_name=None, origin_filter=None, message_format='__main__.ItemProcessingResult', destination=RoutingDestination(topics='item_processing_results', recipient_list=[], priority=None), mark_forwarded=False, route_times=-3, transformer=None, agent_state_update=None, guild_state_update=None, process_status=None)]), message_history=[ProcessEntry(agent=AgentTag(id='SplitterAgent', name='Purchase Order Splitter'), origin=9567363465480249344, result=9567363465694154752, processor='split_and_send', from_topic='purchase_orders', to_topics=['item_processing_results'])], ttl=None, is_error_message=False, traceparent=None, session_state={}, topic_published_to='item_processing_results', enrich_with_history=0, process_status=None, id=9567363465694154752, priority=<Priority.NORMAL: 4>, timestamp=1754545147687, current_thread_id=9567363465480249344, root_thread_id=9567363465480249344)]"
      ]
     },
     "execution_count": 6,
     "metadata": {},
     "output_type": "execute_result"
    }
   ],
   "source": [
    "probe_agent.get_messages()"
   ]
  }
 ],
 "metadata": {
  "kernelspec": {
   "display_name": "dragonscale-ai-platform-DThhIUXV-py3.12",
   "language": "python",
   "name": "python3"
  },
  "language_info": {
   "codemirror_mode": {
    "name": "ipython",
    "version": 3
   },
   "file_extension": ".py",
   "mimetype": "text/x-python",
   "name": "python",
   "nbconvert_exporter": "python",
   "pygments_lexer": "ipython3",
   "version": "3.12.0"
  }
 },
 "nbformat": 4,
 "nbformat_minor": 5
}
