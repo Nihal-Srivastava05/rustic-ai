{
 "cells": [
  {
   "cell_type": "markdown",
   "id": "4eaa4af5",
   "metadata": {},
   "source": [
    "## Message Translator (PayloadTransformer)\n",
    "\n",
    "This notebook demonstrates the Message Translator pattern using a `PayloadTransformer` with `JxScript`, `JObj`, and `jx.assign` for structured JSONata expression building. This approach provides better type safety, readability, and maintainability compared to raw JSONata strings.\n",
    "\n",
    "**Input Format**: `CustomerRequest` - A customer service request  \n",
    "**Output Format**: `InternalTicket` - An internal support ticket format\n",
    "\n",
    "**Transformation Benefits with jx.assign:**\n",
    "- **Readability**: Complex expressions are broken into named variables\n",
    "- **Reusability**: Intermediate results can be reused throughout the transformation\n",
    "- **Debugging**: Easier to understand and debug transformation logic\n",
    "- **Maintainability**: Changes to specific parts of the transformation are isolated\n",
    "\n",
    "The flow will be:\n",
    "\n",
    "[ProbeAgent] --`CustomerRequest`-> (default_topic) -> [Translator Agent/TranslatorAgent:wire_message] --`InternalTicket`-> (internal_tickets)"
   ]
  },
  {
   "cell_type": "code",
   "execution_count": null,
   "id": "b59bdfda",
   "metadata": {},
   "outputs": [],
   "source": [
    "from pydantic import BaseModel\n",
    "from typing import Optional\n",
    "from datetime import datetime\n",
    "\n",
    "# Input message format - what customers send\n",
    "class CustomerRequest(BaseModel):\n",
    "    customer_name: str\n",
    "    email: str\n",
    "    subject: str\n",
    "    description: str\n",
    "    priority: str  # \"low\", \"medium\", \"high\"\n",
    "\n",
    "# Output message format - internal ticket system\n",
    "class InternalTicket(BaseModel):\n",
    "    ticket_id: str\n",
    "    customer_info: dict\n",
    "    title: str\n",
    "    details: str\n",
    "    severity: int  # 1=high, 2=medium, 3=low\n",
    "    created_at: str\n",
    "    status: str = \"open\""
   ]
  },
  {
   "cell_type": "code",
   "execution_count": null,
   "id": "24e586a8",
   "metadata": {},
   "outputs": [],
   "source": [
    "from rustic_ai.core.agents.eip.basic_wiring_agent import BasicWiringAgent\n",
    "from rustic_ai.core.guild.builders import AgentBuilder, GuildBuilder, RouteBuilder\n",
    "from rustic_ai.core.guild.dsl import GuildTopics\n",
    "from rustic_ai.core.utils.basic_class_utils import get_qualified_class_name\n",
    "from rustic_ai.core.utils import jx\n",
    "from rustic_ai.core.utils.jexpr import JObj, JxScript\n",
    "\n",
    "# Create the translator agent\n",
    "translator_agent = (\n",
    "    AgentBuilder(BasicWiringAgent)\n",
    "    .set_id(\"TranslatorAgent\")\n",
    "    .set_name(\"Message Translator\")\n",
    "    .set_description(\"Translates customer requests into internal ticket format using PayloadTransformer\")\n",
    "    .build_spec()\n",
    ")\n"
   ]
  },
  {
   "cell_type": "code",
   "execution_count": null,
   "id": "51dd0012",
   "metadata": {},
   "outputs": [],
   "source": [
    "\n",
    "# Create a JxScript with JObj that transforms CustomerRequest to InternalTicket\n",
    "# Using jx.assign to break down complex transformation into readable variables\n",
    "payload_transformation = JxScript(\n",
    "    # Assign intermediate variables for better readability\n",
    "    jx.assign(\"$timestamp\", jx.millis()),\n",
    "    jx.assign(\"$random_value\", jx.JExpr(\"$random()\")),\n",
    "    jx.assign(\"$random_suffix\", jx.substring(jx.string(\"$random_value\"), 2, 6)),\n",
    "    jx.assign(\"$timestamp_str\", jx.string(\"$timestamp\")),\n",
    "    jx.assign(\"$ticket_prefix\", jx.substringBefore(\"$timestamp_str\", \".\")),\n",
    "    jx.assign(\"$generated_ticket_id\", jx.JExpr('\"TKT-\" & $ticket_prefix & \"-\" & $random_suffix')),\n",
    "    \n",
    "    # Assign priority-to-severity mapping using nested ternary\n",
    "    jx.assign(\"$severity_level\", jx.ternary(\n",
    "        jx.JExpr(\"priority\") == \"high\", \n",
    "        1, \n",
    "        jx.ternary(jx.JExpr(\"priority\") == \"medium\", 2, 3)\n",
    "    )),\n",
    "    \n",
    "    # Assign customer information object\n",
    "    jx.assign(\"$customer_details\", JObj({\n",
    "        \"name\": jx.JExpr(\"customer_name\"),\n",
    "        \"email\": jx.JExpr(\"email\")\n",
    "    })),\n",
    "    \n",
    "    # Final transformation object using assigned variables\n",
    "    JObj({\n",
    "        \"ticket_id\": jx.JExpr(\"$generated_ticket_id\"),\n",
    "        \"customer_info\": jx.JExpr(\"$customer_details\"),\n",
    "        \"title\": jx.JExpr(\"subject\"),\n",
    "        \"details\": jx.JExpr(\"description\"),\n",
    "        \"severity\": jx.JExpr(\"$severity_level\"),\n",
    "        \"created_at\": jx.now(),\n",
    "        \"status\": jx.JExpr('\"open\"')\n",
    "    })\n",
    ")\n"
   ]
  },
  {
   "cell_type": "code",
   "execution_count": null,
   "id": "f01df3ab",
   "metadata": {},
   "outputs": [],
   "source": [
    "\n",
    "# Create the routing rule with PayloadTransformer\n",
    "translation_rule = (\n",
    "    RouteBuilder(translator_agent)\n",
    "    .filter_on_origin(origin_message_format=get_qualified_class_name(CustomerRequest))\n",
    "    .set_payload_transformer(InternalTicket, payload_transformation)\n",
    "    .set_destination_topics(\"internal_tickets\")\n",
    "    .build()\n",
    ")\n"
   ]
  },
  {
   "cell_type": "code",
   "execution_count": null,
   "id": "d826b7f0",
   "metadata": {},
   "outputs": [],
   "source": [
    "\n",
    "# Create the guild\n",
    "guild = (\n",
    "    GuildBuilder(\n",
    "        guild_id=\"MessageTranslatorPayloadGuild\",\n",
    "        guild_name=\"Message Translator (Payload) Guild\",\n",
    "        guild_description=\"A guild demonstrating message translation using PayloadTransformer.\",\n",
    "    )\n",
    "    .add_agent_spec(translator_agent)\n",
    "    .add_route(translation_rule)\n",
    "    .launch(\"myorg\")\n",
    ")"
   ]
  },
  {
   "cell_type": "code",
   "execution_count": null,
   "id": "763c0dc2",
   "metadata": {},
   "outputs": [],
   "source": [
    "from rustic_ai.core.agents.testutils.probe_agent import ProbeAgent\n",
    "\n",
    "guild_default_topic = GuildTopics.DEFAULT_TOPICS[0]\n",
    "\n",
    "probe_spec = (\n",
    "    AgentBuilder(ProbeAgent)\n",
    "    .set_id(\"ProbeAgent\")\n",
    "    .set_name(\"Probe Agent\")\n",
    "    .set_description(\"A probe agent to test message translation.\")\n",
    "    .add_additional_topic(\"internal_tickets\")\n",
    "    .build_spec()\n",
    ")\n",
    "\n",
    "probe_agent: ProbeAgent = guild._add_local_agent(probe_spec)  # type: ignore"
   ]
  },
  {
   "cell_type": "code",
   "execution_count": null,
   "id": "a18d61ca",
   "metadata": {},
   "outputs": [],
   "source": [
    "# Send a customer request\n",
    "customer_request = CustomerRequest(\n",
    "    customer_name=\"John Doe\",\n",
    "    email=\"john.doe@example.com\",\n",
    "    subject=\"Login Issue\",\n",
    "    description=\"I can't log into my account. Getting 'invalid credentials' error.\",\n",
    "    priority=\"high\"\n",
    ")\n",
    "\n",
    "probe_agent.publish_with_guild_route(\n",
    "    payload=customer_request,\n",
    "    topic=guild_default_topic,\n",
    ")"
   ]
  },
  {
   "cell_type": "code",
   "execution_count": null,
   "id": "162fe330",
   "metadata": {},
   "outputs": [],
   "source": [
    "# Check the translated message\n",
    "probe_agent.print_message_history()"
   ]
  },
  {
   "cell_type": "code",
   "execution_count": null,
   "id": "f0c60783",
   "metadata": {},
   "outputs": [],
   "source": [
    "last_message = probe_agent.get_messages()[-1]\n",
    "print(f\"Format: {last_message.format}\")\n",
    "print(f\"Payload: {last_message.payload}\")"
   ]
  },
  {
   "cell_type": "code",
   "execution_count": null,
   "id": "cd6992eb",
   "metadata": {},
   "outputs": [],
   "source": [
    "# Send another customer request with different priority\n",
    "customer_request_2 = CustomerRequest(\n",
    "    customer_name=\"Jane Smith\",\n",
    "    email=\"jane.smith@company.com\",\n",
    "    subject=\"Feature Request\",\n",
    "    description=\"Would like to request a new dashboard feature for analytics.\",\n",
    "    priority=\"low\"\n",
    ")\n",
    "\n",
    "probe_agent.publish_with_guild_route(\n",
    "    payload=customer_request_2,\n",
    "    topic=guild_default_topic,\n",
    ")"
   ]
  },
  {
   "cell_type": "code",
   "execution_count": null,
   "id": "668436f7",
   "metadata": {},
   "outputs": [],
   "source": [
    "# Check all messages to see both translations\n",
    "probe_agent.print_message_history()"
   ]
  },
  {
   "cell_type": "code",
   "execution_count": null,
   "id": "b6fd591e",
   "metadata": {},
   "outputs": [],
   "source": [
    "last_message = probe_agent.get_messages()[-1]\n",
    "print(f\"Format: {last_message.format}\")\n",
    "print(f\"Payload: {last_message.payload}\")"
   ]
  },
  {
   "cell_type": "code",
   "execution_count": null,
   "id": "1560c69a",
   "metadata": {},
   "outputs": [],
   "source": []
  }
 ],
 "metadata": {
  "kernelspec": {
   "display_name": "rusticai-python-framework-mrvUAtfg-py3.12",
   "language": "python",
   "name": "python3"
  },
  "language_info": {
   "codemirror_mode": {
    "name": "ipython",
    "version": 3
   },
   "file_extension": ".py",
   "mimetype": "text/x-python",
   "name": "python",
   "nbconvert_exporter": "python",
   "pygments_lexer": "ipython3",
   "version": "3.12.11"
  }
 },
 "nbformat": 4,
 "nbformat_minor": 5
}
