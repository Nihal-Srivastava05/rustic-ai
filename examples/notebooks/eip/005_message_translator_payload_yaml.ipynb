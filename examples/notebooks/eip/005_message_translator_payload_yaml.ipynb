{
 "cells": [
  {
   "cell_type": "markdown",
   "id": "0e5f1d50",
   "metadata": {},
   "source": [
    "## Message Translator (PayloadTransformer from YAML spec)\n",
    "\n",
    "This notebook demonstrates the Message Translator pattern using a `PayloadTransformer` defined in a YAML guild specification. A Message Translator converts messages from one format to another, enabling agents with different message formats to communicate effectively.\n",
    "\n",
    "**Input Format**: `CustomerRequest` - A customer service request  \n",
    "**Output Format**: `InternalTicket` - An internal support ticket format\n",
    "\n",
    "**YAML Transformation Benefits:**\n",
    "- **Declarative Configuration**: Guild specification is defined in YAML\n",
    "- **Variable Assignment**: Uses JSONata variable assignments for better readability\n",
    "- **Reusable Intermediate Results**: Complex expressions broken into named variables\n",
    "- **Clean Separation**: Business logic separated from infrastructure code\n",
    "\n",
    "The YAML specification includes a structured JSONata expression that:\n",
    "1. Assigns intermediate variables for ticket ID generation\n",
    "2. Maps priority to severity levels using conditional logic\n",
    "3. Creates customer information objects\n",
    "4. Builds the final transformed message\n",
    "\n",
    "The flow will be:\n",
    "\n",
    "[ProbeAgent] --`CustomerRequest`-> (default_topic) -> [Translator Agent/TranslatorAgent:wire_message] --`InternalTicket`-> (internal_tickets)"
   ]
  },
  {
   "cell_type": "code",
   "execution_count": null,
   "id": "b4cc100c",
   "metadata": {},
   "outputs": [],
   "source": [
    "from pydantic import BaseModel\n",
    "from typing import Optional\n",
    "from datetime import datetime\n",
    "\n",
    "# Input message format - what customers send\n",
    "class CustomerRequest(BaseModel):\n",
    "    customer_name: str\n",
    "    email: str\n",
    "    subject: str\n",
    "    description: str\n",
    "    priority: str  # \"low\", \"medium\", \"high\"\n",
    "\n",
    "# Output message format - internal ticket system\n",
    "class InternalTicket(BaseModel):\n",
    "    ticket_id: str\n",
    "    customer_info: dict\n",
    "    title: str\n",
    "    details: str\n",
    "    severity: int  # 1=high, 2=medium, 3=low\n",
    "    created_at: str\n",
    "    status: str = \"open\""
   ]
  },
  {
   "cell_type": "code",
   "execution_count": null,
   "id": "c6b08ea8",
   "metadata": {},
   "outputs": [],
   "source": [
    "from rustic_ai.core.guild.builders import GuildBuilder\n",
    "\n",
    "# Load the guild from YAML specification\n",
    "# The YAML file contains the JSONata expression for payload transformation\n",
    "guild = GuildBuilder.from_yaml_file(\"./005_message_translator_payload.yaml\").launch(\"myorg\")"
   ]
  },
  {
   "cell_type": "code",
   "execution_count": null,
   "id": "e9172196",
   "metadata": {},
   "outputs": [],
   "source": [
    "from rustic_ai.core.agents.testutils.probe_agent import ProbeAgent\n",
    "from rustic_ai.core.guild.builders import AgentBuilder\n",
    "from rustic_ai.core.guild.dsl import GuildTopics\n",
    "\n",
    "guild_default_topic = GuildTopics.DEFAULT_TOPICS[0]\n",
    "\n",
    "probe_agent = (\n",
    "    AgentBuilder(ProbeAgent)\n",
    "    .set_id(\"ProbeAgent\")\n",
    "    .set_name(\"Probe Agent\")\n",
    "    .set_description(\"A probe agent to test message translation.\")\n",
    "    .add_additional_topic(\"internal_tickets\")\n",
    "    .build()\n",
    ")\n",
    "\n",
    "guild._add_local_agent(probe_agent)"
   ]
  },
  {
   "cell_type": "code",
   "execution_count": null,
   "id": "5faffd4d",
   "metadata": {},
   "outputs": [],
   "source": [
    "# Send a customer request\n",
    "customer_request = CustomerRequest(\n",
    "    customer_name=\"John Doe\",\n",
    "    email=\"john.doe@example.com\",\n",
    "    subject=\"Login Issue\",\n",
    "    description=\"I can't log into my account. Getting 'invalid credentials' error.\",\n",
    "    priority=\"high\"\n",
    ")\n",
    "\n",
    "probe_agent.publish_with_guild_route(\n",
    "    payload=customer_request,\n",
    "    topic=guild_default_topic,\n",
    ")"
   ]
  },
  {
   "cell_type": "code",
   "execution_count": null,
   "id": "41842bc6",
   "metadata": {},
   "outputs": [],
   "source": [
    "# Check the translated message\n",
    "probe_agent.print_message_history()"
   ]
  },
  {
   "cell_type": "code",
   "execution_count": null,
   "id": "fcda8417",
   "metadata": {},
   "outputs": [],
   "source": [
    "last_message = probe_agent.get_messages()[-1]\n",
    "print(f\"Format: {last_message.format}\")\n",
    "print(f\"Payload: {last_message.payload}\")"
   ]
  },
  {
   "cell_type": "code",
   "execution_count": null,
   "id": "75b529ae",
   "metadata": {},
   "outputs": [],
   "source": [
    "# Send another customer request with different priority\n",
    "customer_request_2 = CustomerRequest(\n",
    "    customer_name=\"Jane Smith\",\n",
    "    email=\"jane.smith@company.com\",\n",
    "    subject=\"Feature Request\",\n",
    "    description=\"Would like to request a new dashboard feature for analytics.\",\n",
    "    priority=\"low\"\n",
    ")\n",
    "\n",
    "probe_agent.publish_with_guild_route(\n",
    "    payload=customer_request_2,\n",
    "    topic=guild_default_topic,\n",
    ")"
   ]
  },
  {
   "cell_type": "code",
   "execution_count": null,
   "id": "1421ab32",
   "metadata": {},
   "outputs": [],
   "source": [
    "# Check all messages to see both translations\n",
    "probe_agent.print_message_history()"
   ]
  },
  {
   "cell_type": "code",
   "execution_count": null,
   "id": "506c7bd9",
   "metadata": {},
   "outputs": [],
   "source": [
    "last_message = probe_agent.get_messages()[-1]\n",
    "print(f\"Format: {last_message.format}\")\n",
    "print(f\"Payload: {last_message.payload}\")"
   ]
  },
  {
   "cell_type": "code",
   "execution_count": null,
   "id": "6074671c",
   "metadata": {},
   "outputs": [],
   "source": []
  }
 ],
 "metadata": {
  "kernelspec": {
   "display_name": "rusticai-python-framework-mrvUAtfg-py3.12",
   "language": "python",
   "name": "python3"
  },
  "language_info": {
   "codemirror_mode": {
    "name": "ipython",
    "version": 3
   },
   "file_extension": ".py",
   "mimetype": "text/x-python",
   "name": "python",
   "nbconvert_exporter": "python",
   "pygments_lexer": "ipython3",
   "version": "3.12.11"
  }
 },
 "nbformat": 4,
 "nbformat_minor": 5
}
