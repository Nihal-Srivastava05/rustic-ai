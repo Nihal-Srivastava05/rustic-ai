{
 "cells": [
  {
   "cell_type": "markdown",
   "id": "fc58b920",
   "metadata": {},
   "source": [
    "## Basic Message Routing from YAML Spec (Format Based)\n",
    "\n",
    "This notebook demonstrates simple routing, picking up messages from one topic and writing it to different topic based on the message format.\n",
    "\n",
    "Simple routing allows filtering using:\n",
    "- origin_sender\n",
    "- origin_topic\n",
    "- origin_message_format\n",
    "\n",
    "In this case, we are routing based on origin message format.\n",
    "\n",
    "[ProbeAgent] --_MessageType1_-> (default_topic) -> [Routing Agent/RoutingAgent:wire_message] -> (**topic_1**)\n",
    "\n",
    "[ProbeAgent] --_MessageType2_-> (default_topic) -> [Routing Agent/RoutingAgent:wire_message] -> (**topic_2**)"
   ]
  },
  {
   "cell_type": "code",
   "execution_count": 1,
   "id": "9016f70e",
   "metadata": {},
   "outputs": [],
   "source": [
    "# Define different message types\n",
    "\n",
    "from pydantic import BaseModel\n",
    "\n",
    "class MessageType1(BaseModel):\n",
    "    content: str\n",
    "\n",
    "class MessageType2(BaseModel):\n",
    "    content: str\n",
    "    additional_info: str"
   ]
  },
  {
   "cell_type": "code",
   "execution_count": 2,
   "id": "3862a898",
   "metadata": {},
   "outputs": [
    {
     "name": "stderr",
     "output_type": "stream",
     "text": [
      "WARNING:root:Dependencies configuration file not found.\n"
     ]
    }
   ],
   "source": [
    "from rustic_ai.core.guild.builders import GuildBuilder\n",
    "\n",
    "guild_builder = GuildBuilder.from_yaml_file(\"./002_basic_message_routing.yaml\")\n",
    "guild = guild_builder.launch(\"myorg\")"
   ]
  },
  {
   "cell_type": "code",
   "execution_count": 3,
   "id": "865c6f86",
   "metadata": {},
   "outputs": [],
   "source": [
    "from rustic_ai.core.agents.testutils.probe_agent import ProbeAgent\n",
    "from rustic_ai.core.guild.builders import AgentBuilder\n",
    "from rustic_ai.core.guild.dsl import GuildTopics\n",
    "\n",
    "guild_default_topic = GuildTopics.DEFAULT_TOPICS[0]\n",
    "\n",
    "probe_agent = (\n",
    "    AgentBuilder(ProbeAgent)\n",
    "    .set_id(\"ProbeAgent\")\n",
    "    .set_name(\"Probe Agent\")\n",
    "    .set_description(\"A probe agent to test the routing of messages.\")\n",
    "    .add_additional_topic(\"topic_1\")\n",
    "    .add_additional_topic(\"topic_2\")\n",
    "    .build()\n",
    ")\n",
    "\n",
    "guild._add_local_agent(probe_agent)"
   ]
  },
  {
   "cell_type": "code",
   "execution_count": 4,
   "id": "521aeccd",
   "metadata": {},
   "outputs": [
    {
     "data": {
      "text/plain": [
       "<rustic_ai.core.utils.gemstone_id.GemstoneID at 0x7f617ef815e0>"
      ]
     },
     "execution_count": 4,
     "metadata": {},
     "output_type": "execute_result"
    }
   ],
   "source": [
    "probe_agent.publish_with_guild_route(\n",
    "    payload=MessageType1(content=\"Hello from MessageType1!\"),\n",
    "    topic=guild_default_topic,\n",
    ")"
   ]
  },
  {
   "cell_type": "code",
   "execution_count": 5,
   "id": "79934837",
   "metadata": {},
   "outputs": [
    {
     "name": "stdout",
     "output_type": "stream",
     "text": [
      "(default_topic) -> [Routing Agent/RoutingAgent:wire_message] -> (topic_1)\n"
     ]
    }
   ],
   "source": [
    "probe_agent.print_message_history()"
   ]
  },
  {
   "cell_type": "code",
   "execution_count": 6,
   "id": "ad8359cf",
   "metadata": {},
   "outputs": [
    {
     "data": {
      "text/plain": [
       "<rustic_ai.core.utils.gemstone_id.GemstoneID at 0x7f617ef82180>"
      ]
     },
     "execution_count": 6,
     "metadata": {},
     "output_type": "execute_result"
    }
   ],
   "source": [
    "probe_agent.publish_with_guild_route(\n",
    "    payload=MessageType2(content=\"Hello from MessageType2!\", additional_info=\"Some extra info\"),\n",
    "    topic=guild_default_topic,\n",
    ")"
   ]
  },
  {
   "cell_type": "code",
   "execution_count": 7,
   "id": "64950979",
   "metadata": {},
   "outputs": [
    {
     "name": "stdout",
     "output_type": "stream",
     "text": [
      "(default_topic) -> [Routing Agent/RoutingAgent:wire_message] -> (topic_2)\n"
     ]
    }
   ],
   "source": [
    "probe_agent.print_message_history()"
   ]
  },
  {
   "cell_type": "code",
   "execution_count": null,
   "id": "8e1b5982",
   "metadata": {},
   "outputs": [],
   "source": []
  }
 ],
 "metadata": {
  "kernelspec": {
   "display_name": "rusticai-python-framework-mrvUAtfg-py3.12",
   "language": "python",
   "name": "python3"
  },
  "language_info": {
   "codemirror_mode": {
    "name": "ipython",
    "version": 3
   },
   "file_extension": ".py",
   "mimetype": "text/x-python",
   "name": "python",
   "nbconvert_exporter": "python",
   "pygments_lexer": "ipython3",
   "version": "3.12.11"
  }
 },
 "nbformat": 4,
 "nbformat_minor": 5
}
