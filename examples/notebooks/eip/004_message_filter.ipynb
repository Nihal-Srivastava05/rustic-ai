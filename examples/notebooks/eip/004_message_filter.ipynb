{
 "cells": [
  {
   "cell_type": "markdown",
   "id": "1382d4ba",
   "metadata": {},
   "source": [
    "## Message filter \n",
    "\n",
    "This notebook demonstrates using Runtime Predicate to filter messages coming into an agent.\n",
    "\n",
    "The `runtime_predicate` for an AgentSpec can be a `SimpleRuntimePredicate` with the expression being a JSONata filter expression.\n",
    "\n",
    "The runtime predicate can be used to filter messages before the agent sees them. The filter cann be applied on -\n",
    "- **message**: The dictionary for complete incoming message\n",
    "- **agent_state**: The dictionary for the  current agent state\n",
    "- **guild_state**: The dictionary for the current guild state\n",
    "\n",
    "[ProbeAgent] --`{\"payload\":{\"filter\":true}}`-> (default_topic) **->** [Filtering Agent/FilteringAgent:wire_message] -> (accepted)\n",
    "\n",
    "[ProbeAgent] --`{\"payload\":{\"filter\":false}}`-> (default_topic) **-X** [Filtering Agent/FilteringAgent:wire_message] X |NO MESSAGE|"
   ]
  },
  {
   "cell_type": "code",
   "execution_count": null,
   "id": "8f6977c4",
   "metadata": {},
   "outputs": [],
   "source": [
    "from pydantic import BaseModel\n",
    "\n",
    "\n",
    "class FilteringMessage(BaseModel):\n",
    "    \"\"\"A message that can be filtered based on its content.\"\"\"\n",
    "\n",
    "    filter: bool\n",
    "    content: str"
   ]
  },
  {
   "cell_type": "code",
   "execution_count": null,
   "id": "13caef80",
   "metadata": {},
   "outputs": [],
   "source": [
    "from rustic_ai.core.agents.eip.basic_wiring_agent import BasicWiringAgent\n",
    "from rustic_ai.core.guild.builders import AgentBuilder, GuildBuilder, RouteBuilder\n",
    "from rustic_ai.core.guild.dsl import (\n",
    "    GuildTopics,\n",
    "    SimpleRuntimePredicate,\n",
    ")\n",
    "from rustic_ai.core.utils import jx\n",
    "from rustic_ai.core.utils.basic_class_utils import get_qualified_class_name\n",
    "from rustic_ai.core.utils.jexpr import JxScript\n",
    "\n",
    "guild_default_topic = GuildTopics.DEFAULT_TOPICS[0]\n",
    "\n",
    "# Create a JxScript to route message based on content\n",
    "runtime_predicate = JxScript(jx.JExpr(\"message.payload.filter\"))\n",
    "\n",
    "filtering_agent = (\n",
    "    AgentBuilder(BasicWiringAgent)\n",
    "    .set_id(\"FilteringAgent\")\n",
    "    .set_name(\"Filtering Agent\")\n",
    "    .set_description(\"A content based router that routes messages based on their routing_key.\")\n",
    "    .add_predicate(\n",
    "        BasicWiringAgent.wire_message.__name__, SimpleRuntimePredicate(expression=runtime_predicate.serialize())\n",
    "    )  # Add a runtime predicate to the agent\n",
    "    .build_spec()\n",
    ")\n",
    "\n",
    "\n",
    "# Create the Routing Rule for CBRMessage\n",
    "simple_route = (\n",
    "    RouteBuilder(filtering_agent)\n",
    "    .filter_on_origin(origin_message_format=get_qualified_class_name(FilteringMessage))\n",
    "    .set_destination_topics(\"accepted\")\n",
    "    .build()\n",
    ")\n",
    "\n",
    "# Create the Guild with the Routing Agent and the Routing Rules\n",
    "guild = (\n",
    "    GuildBuilder(\n",
    "        guild_id=\"MessageFilteringGuild\",\n",
    "        guild_name=\"Message Filtering Guild\",\n",
    "        guild_description=\"A guild that filters messages based on their content.\",\n",
    "    )\n",
    "    .add_agent_spec(filtering_agent)\n",
    "    .add_route(simple_route)\n",
    "    .launch(\"myorg\")\n",
    ")"
   ]
  },
  {
   "cell_type": "code",
   "execution_count": null,
   "id": "7a304548",
   "metadata": {},
   "outputs": [],
   "source": [
    "from rustic_ai.core.agents.testutils.probe_agent import ProbeAgent\n",
    "\n",
    "probe_agent = (\n",
    "    AgentBuilder(ProbeAgent)\n",
    "    .set_id(\"ProbeAgent\")\n",
    "    .set_name(\"Probe Agent\")\n",
    "    .set_description(\"A probe agent to test the routing of messages.\")\n",
    "    .add_additional_topic(\"accepted\")\n",
    "    .add_additional_topic(GuildTopics.DEAD_LETTER_QUEUE)\n",
    "    .build()\n",
    ")\n",
    "\n",
    "guild._add_local_agent(probe_agent)"
   ]
  },
  {
   "cell_type": "code",
   "execution_count": null,
   "id": "3b39f388",
   "metadata": {},
   "outputs": [],
   "source": [
    "probe_agent.publish_with_guild_route(\n",
    "    payload=FilteringMessage(filter=True, content=\"This is a test message\"),\n",
    "    topic=guild_default_topic,\n",
    ")"
   ]
  },
  {
   "cell_type": "code",
   "execution_count": null,
   "id": "730580d4",
   "metadata": {},
   "outputs": [],
   "source": [
    "probe_agent.print_message_history()"
   ]
  },
  {
   "cell_type": "code",
   "execution_count": null,
   "id": "eff0686b",
   "metadata": {},
   "outputs": [],
   "source": [
    "probe_agent.clear_messages()\n",
    "\n",
    "probe_agent.publish_with_guild_route(\n",
    "    payload=FilteringMessage(filter=False, content=\"This is message should be rejected\"),\n",
    "    topic=guild_default_topic,\n",
    ")"
   ]
  },
  {
   "cell_type": "code",
   "execution_count": null,
   "id": "ea515f9a",
   "metadata": {},
   "outputs": [],
   "source": [
    "probe_agent.print_message_history()"
   ]
  }
 ],
 "metadata": {
  "kernelspec": {
   "display_name": "rusticai-python-framework-mrvUAtfg-py3.12",
   "language": "python",
   "name": "python3"
  },
  "language_info": {
   "codemirror_mode": {
    "name": "ipython",
    "version": 3
   },
   "file_extension": ".py",
   "mimetype": "text/x-python",
   "name": "python",
   "nbconvert_exporter": "python",
   "pygments_lexer": "ipython3",
   "version": "3.12.11"
  }
 },
 "nbformat": 4,
 "nbformat_minor": 5
}
