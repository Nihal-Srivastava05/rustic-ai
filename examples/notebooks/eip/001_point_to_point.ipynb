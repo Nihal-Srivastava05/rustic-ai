{
 "cells": [
  {
   "cell_type": "markdown",
   "id": "74c89b5b",
   "metadata": {},
   "source": [
    "## P2P Messaging\n",
    "This notebook demonstrates the P2P messaging from 1 agent to another using Agent self topic in the RoutingRule.\n",
    "\n",
    "Every Agent in the system is always listening to a special topic dedicated to it `agent_self:{agent_id}` defined in dsl.py under GuildTopics.\n",
    "\n",
    "What we will demonstrate here -\n",
    "\n",
    "**(default_topic) -> [Agent1/agent1:wire_message] -> (agent_inbox:agent2)**\n",
    "\n",
    "**(agent_inbox:agent2) -> [Agent2/agent2:wire_message] -> (topic_2)**"
   ]
  },
  {
   "cell_type": "code",
   "execution_count": 1,
   "id": "aa353029",
   "metadata": {},
   "outputs": [
    {
     "name": "stderr",
     "output_type": "stream",
     "text": [
      "WARNING:root:Dependencies configuration file not found.\n"
     ]
    }
   ],
   "source": [
    "# import AgentBuilder and GuildBuilder\n",
    "\n",
    "from rustic_ai.core.agents.eip import BasicWiringAgent\n",
    "from rustic_ai.core.guild.builders import AgentBuilder, GuildBuilder, RouteBuilder\n",
    "from rustic_ai.core.guild.dsl import GuildTopics\n",
    "\n",
    "# Create one agent that listens to the default topic and another that does not\n",
    "agent1 = (\n",
    "    AgentBuilder(BasicWiringAgent).set_name(\"Agent1\").set_id(\"agent1\").set_description(\"The first Agent\").build_spec()\n",
    ")\n",
    "agent2 = (\n",
    "    AgentBuilder(BasicWiringAgent)\n",
    "    .set_name(\"Agent2\")\n",
    "    .set_id(\"agent2\")\n",
    "    .set_description(\"The second Agent\")\n",
    "    .listen_to_default_topic(False)\n",
    "    .build_spec()\n",
    ")\n",
    "\n",
    "# Create the P2P route\n",
    "p2p_route = (\n",
    "    RouteBuilder(agent1)\n",
    "    .set_destination_topics(GuildTopics.get_agent_inbox(agent2.id))  # Use the inbox topic for agent2\n",
    "    .build()\n",
    ")\n",
    "\n",
    "# Create back to probe route\n",
    "probe_route = RouteBuilder(agent2).set_destination_topics(\"topic_2\").build()\n",
    "\n",
    "\n",
    "# Create a guild with the two agents\n",
    "guild = (\n",
    "    GuildBuilder(\n",
    "        \"p2p_guild\", \"Point 2 Point Messaging\", \"A guild to demonstrate point-to-point messaging between agents.\"\n",
    "    )\n",
    "    .add_agent_spec(agent1)  # Add the first agent\n",
    "    .add_agent_spec(agent2)  # Add the second agent\n",
    "    .add_route(p2p_route)  # Add the P2P route\n",
    "    .add_route(probe_route)  # Add the probe route\n",
    "    .launch(\"myorg\")\n",
    ")"
   ]
  },
  {
   "cell_type": "code",
   "execution_count": 2,
   "id": "9f57c066",
   "metadata": {},
   "outputs": [],
   "source": [
    "from rustic_ai.core.agents.testutils.probe_agent import ProbeAgent\n",
    "\n",
    "\n",
    "probe_agent = (\n",
    "    AgentBuilder(ProbeAgent)\n",
    "    .set_name(\"ProbeAgent\")\n",
    "    .set_description(\"An agent to probe the guild\")\n",
    "    .add_additional_topic(\"topic_2\")\n",
    "    .build()\n",
    ")\n",
    "\n",
    "guild._add_local_agent(probe_agent)"
   ]
  },
  {
   "cell_type": "code",
   "execution_count": 3,
   "id": "57418aab",
   "metadata": {},
   "outputs": [
    {
     "data": {
      "text/plain": [
       "<rustic_ai.core.utils.gemstone_id.GemstoneID at 0x7f08322658e0>"
      ]
     },
     "execution_count": 3,
     "metadata": {},
     "output_type": "execute_result"
    }
   ],
   "source": [
    "from rustic_ai.core.guild.dsl import GuildTopics\n",
    "\n",
    "\n",
    "probe_agent.publish_dict_with_guild_route(payload={\"content\": \"Hello from ProbeAgent!\"}, topic=GuildTopics.DEFAULT_TOPICS[0])"
   ]
  },
  {
   "cell_type": "code",
   "execution_count": 4,
   "id": "30506cdd",
   "metadata": {},
   "outputs": [
    {
     "name": "stdout",
     "output_type": "stream",
     "text": [
      "(default_topic) -> [Agent1/agent1:wire_message] -> (agent_inbox:agent2)\n",
      "(agent_inbox:agent2) -> [Agent2/agent2:wire_message] -> (topic_2)\n"
     ]
    }
   ],
   "source": [
    "probe_agent.print_message_history(-1)"
   ]
  },
  {
   "cell_type": "code",
   "execution_count": null,
   "id": "ba54ea0a",
   "metadata": {},
   "outputs": [],
   "source": []
  }
 ],
 "metadata": {
  "kernelspec": {
   "display_name": "rusticai-python-framework-mrvUAtfg-py3.12",
   "language": "python",
   "name": "python3"
  },
  "language_info": {
   "codemirror_mode": {
    "name": "ipython",
    "version": 3
   },
   "file_extension": ".py",
   "mimetype": "text/x-python",
   "name": "python",
   "nbconvert_exporter": "python",
   "pygments_lexer": "ipython3",
   "version": "3.12.11"
  }
 },
 "nbformat": 4,
 "nbformat_minor": 5
}
