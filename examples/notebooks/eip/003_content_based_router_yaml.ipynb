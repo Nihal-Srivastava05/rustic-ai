{
 "cells": [
  {
   "cell_type": "markdown",
   "id": "8dadd3d6",
   "metadata": {},
   "source": [
    "## Content Based Router (from YAML spec)\n",
    "\n",
    "This notebook demonstrates using `FunctionalTransformer` with a `RoutingRule` to redirect a message based on the message content.\n",
    "\n",
    "The Message is routed based on the partial `MessageRoutable` returned from JSONata expression, combining it with default values.\n",
    "\n",
    "These are the fields in MessageRoutable:\n",
    "\n",
    "- **topics** (Union[str, List[str]]): The topics to which the message should be published.\n",
    "- **recipient_list** (List[AgentTag]): List of agents tagged in the message.\n",
    "- **payload** (JsonDict): The actual content or payload of the message.\n",
    "- **format** (str): The type of the message.\n",
    "- **forward_header** (Optional[ForwardHeader]): The header for a forwarded message.\n",
    "- **context** (Optional[JsonDict]): The context of the message.\n",
    "- **enrich_with_history** (Optional[int]): The number of previous messages to include in the context.\n",
    "\n",
    "In this example, we route if based on `routing_key` in the payload.\n",
    "\n",
    "\n",
    "[ProbeAgent] --(`{\"routing_key\": \"topic_1\"}`)-> (default_topic) -> [Routing Agent/RoutingAgent:wire_message] -> (**topic_1**)\n",
    "\n",
    "[ProbeAgent] --(`{\"routing_key\": \"topic_2\"}`)-> (default_topic) -> [Routing Agent/RoutingAgent:wire_message] -> (**topic_2**)\n"
   ]
  },
  {
   "cell_type": "code",
   "execution_count": 1,
   "id": "4f00c748",
   "metadata": {},
   "outputs": [],
   "source": [
    "from pydantic import BaseModel\n",
    "\n",
    "class CBRMessage(BaseModel):\n",
    "    routing_key: str\n",
    "    body: str"
   ]
  },
  {
   "cell_type": "code",
   "execution_count": 2,
   "id": "22d33491",
   "metadata": {},
   "outputs": [
    {
     "name": "stderr",
     "output_type": "stream",
     "text": [
      "WARNING:root:Dependencies configuration file not found.\n"
     ]
    }
   ],
   "source": [
    "from rustic_ai.core.guild.builders import AgentBuilder, GuildBuilder\n",
    "from rustic_ai.core.guild.dsl import GuildTopics\n",
    "\n",
    "guild_default_topic = GuildTopics.DEFAULT_TOPICS[0]\n",
    "\n",
    "# Create the Guild with the Routing Agent and the Routing Rules\n",
    "guild = GuildBuilder.from_yaml_file(\"./003_content_based_router.yaml\").launch(\"myorg\")"
   ]
  },
  {
   "cell_type": "code",
   "execution_count": 3,
   "id": "60ce5b90",
   "metadata": {},
   "outputs": [],
   "source": [
    "from rustic_ai.core.agents.testutils.probe_agent import ProbeAgent\n",
    "\n",
    "probe_agent = (\n",
    "    AgentBuilder(ProbeAgent)\n",
    "    .set_id(\"ProbeAgent\")\n",
    "    .set_name(\"Probe Agent\")\n",
    "    .set_description(\"A probe agent to test the routing of messages.\")\n",
    "    .add_additional_topic(\"topic_1\")\n",
    "    .add_additional_topic(\"topic_2\")\n",
    "    .build()\n",
    ")\n",
    "\n",
    "guild._add_local_agent(probe_agent)"
   ]
  },
  {
   "cell_type": "code",
   "execution_count": 4,
   "id": "043fbc6a",
   "metadata": {},
   "outputs": [
    {
     "data": {
      "text/plain": [
       "<rustic_ai.core.utils.gemstone_id.GemstoneID at 0x7f6330095c40>"
      ]
     },
     "execution_count": 4,
     "metadata": {},
     "output_type": "execute_result"
    }
   ],
   "source": [
    "probe_agent.publish_with_guild_route(\n",
    "    payload=CBRMessage(routing_key=\"topic_1\", body=\"This is a message for topic 1\"),\n",
    "    topic=guild_default_topic,\n",
    ")"
   ]
  },
  {
   "cell_type": "code",
   "execution_count": 5,
   "id": "64b8b072",
   "metadata": {},
   "outputs": [
    {
     "name": "stdout",
     "output_type": "stream",
     "text": [
      "(default_topic) -> [Routing Agent/RoutingAgent:wire_message] -> (topic_1)\n"
     ]
    }
   ],
   "source": [
    "probe_agent.print_message_history()"
   ]
  },
  {
   "cell_type": "code",
   "execution_count": 6,
   "id": "53ff5d98",
   "metadata": {},
   "outputs": [
    {
     "data": {
      "text/plain": [
       "<rustic_ai.core.utils.gemstone_id.GemstoneID at 0x7f631af6d760>"
      ]
     },
     "execution_count": 6,
     "metadata": {},
     "output_type": "execute_result"
    }
   ],
   "source": [
    "probe_agent.publish_with_guild_route(\n",
    "    payload=CBRMessage(routing_key=\"topic_2\", body=\"This is a message for topic 1\"),\n",
    "    topic=guild_default_topic,\n",
    ")"
   ]
  },
  {
   "cell_type": "code",
   "execution_count": 7,
   "id": "2177c408",
   "metadata": {},
   "outputs": [
    {
     "name": "stdout",
     "output_type": "stream",
     "text": [
      "(default_topic) -> [Routing Agent/RoutingAgent:wire_message] -> (topic_2)\n"
     ]
    }
   ],
   "source": [
    "probe_agent.print_message_history()"
   ]
  }
 ],
 "metadata": {
  "kernelspec": {
   "display_name": "rusticai-python-framework-mrvUAtfg-py3.12",
   "language": "python",
   "name": "python3"
  },
  "language_info": {
   "codemirror_mode": {
    "name": "ipython",
    "version": 3
   },
   "file_extension": ".py",
   "mimetype": "text/x-python",
   "name": "python",
   "nbconvert_exporter": "python",
   "pygments_lexer": "ipython3",
   "version": "3.12.11"
  }
 },
 "nbformat": 4,
 "nbformat_minor": 5
}
