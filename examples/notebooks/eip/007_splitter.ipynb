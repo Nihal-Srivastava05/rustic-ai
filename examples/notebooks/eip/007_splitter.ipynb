{
 "cells": [
  {
   "cell_type": "markdown",
   "id": "3893be23",
   "metadata": {},
   "source": [
    "## Splitter Pattern\n",
    "\n",
    "This notebook demonstrates the **Splitter** Enterprise Integration Pattern (EIP) using Rustic AI agents.\n",
    "\n",
    "The Splitter pattern takes a single composite message (such as an order with multiple items) and splits it into multiple individual messages, each of which can be processed independently. This is useful for:\n",
    "\n",
    "* Handling multi-part messages (e.g., line items in an order)\n",
    "* Enabling parallel processing of each item\n",
    "* Routing different parts to different subsystems or agents\n",
    "\n",
    "### Pattern Flow\n",
    "\n",
    "**1→n Message Flow:**\n",
    "\n",
    "```\n",
    "[ProbeAgent] --OrderRequest--> (order with multiple items)\n",
    "                    ↓ SPLIT PHASE\n",
    "    [SplitterAgent] applies JSONata/Tokenizer/Custom logic:\n",
    "    ├── OrderItemRequest(item 1)\n",
    "    ├── OrderItemRequest(item 2)\n",
    "    └── OrderItemRequest(item n)\n",
    "                    ↓ \n",
    "    [ItemProcessorAgent] processes each item individually\n",
    "```\n",
    "\n",
    "### Key Components\n",
    "\n",
    "* **SplitterAgent**: Applies a dynamic splitting strategy using `JSONata`, `Tokenizer`, or custom logic\n",
    "* **SplitterConfig**: Specifies how to extract each part and optionally format them differently using `FormatSelector`\n",
    "* **Multi-Format Output**: Each split message can carry a different payload and message format (e.g., JSON, media, etc.)\n",
    "* **Message Fan-Out**: The agent emits n messages, one per element from the original input\n",
    "\n",
    "This example showcases how to use the Splitter pattern to break down composite data structures and orchestrate downstream processing workflows effectively.\n"
   ]
  },
  {
   "cell_type": "code",
   "execution_count": 1,
   "id": "cffce9ec",
   "metadata": {},
   "outputs": [],
   "source": [
    "from rustic_ai.core import Guild, GuildTopics, Priority\n",
    "from rustic_ai.core.agents.eip.splitter_agent import (\n",
    "    FixedFormatSelector,\n",
    "    ListFormatSelector,\n",
    "    ListSplitter,\n",
    "    SplitterAgent,\n",
    "    SplitterConf,\n",
    ")"
   ]
  },
  {
   "cell_type": "code",
   "execution_count": 2,
   "id": "de2ff98c",
   "metadata": {},
   "outputs": [],
   "source": [
    "from rustic_ai.core.agents.eip.basic_wiring_agent import BasicWiringAgent\n",
    "from rustic_ai.core.agents.testutils.probe_agent import ProbeAgent\n",
    "from rustic_ai.core.guild.builders import AgentBuilder, GuildBuilder, RouteBuilder\n",
    "from rustic_ai.core.utils.basic_class_utils import get_qualified_class_name\n",
    "from rustic_ai.core.utils.jexpr import JExpr, JObj, JxScript"
   ]
  },
  {
   "cell_type": "markdown",
   "id": "035b6425",
   "metadata": {},
   "source": [
    "## Message Types\n",
    "\n",
    "First, let's define the message models for our scatter-gather pattern. We have:\n",
    "- **Request messages**: One input message with a list of items (A Collection)\n",
    "- **Result messages**: One message per item.\n",
    "\n",
    "Look at [test_splitter_agent.py](./rustic-ai/core/tests/agents/test_splitter_agent.py) for the messages."
   ]
  },
  {
   "cell_type": "code",
   "execution_count": 3,
   "id": "2dfdae26",
   "metadata": {},
   "outputs": [],
   "source": [
    "from typing import Any, Dict, List, Optional\n",
    "from pydantic import BaseModel"
   ]
  },
  {
   "cell_type": "code",
   "execution_count": 4,
   "id": "1e720027",
   "metadata": {},
   "outputs": [],
   "source": [
    "class PurchaseOrderRequest(BaseModel):\n",
    "    order_id: str\n",
    "    items: List[Dict[str, Any]]\n",
    "    customer: str\n",
    "\n",
    "\n",
    "class ItemOrderList(BaseModel):\n",
    "    item1: Dict\n",
    "    item2: Dict\n",
    "\n",
    "\n",
    "class ItemProcessingResult(BaseModel):\n",
    "    id: Optional[str]\n",
    "    quantity: Optional[int]\n"
   ]
  },
  {
   "cell_type": "markdown",
   "id": "c8f42370",
   "metadata": {},
   "source": [
    "### Agent Specifications\n",
    "\n",
    "Now let's create the agent specifications that will be used in our guild."
   ]
  },
  {
   "cell_type": "code",
   "execution_count": 5,
   "id": "195f1d6b",
   "metadata": {},
   "outputs": [],
   "source": [
    "import shortuuid"
   ]
  },
  {
   "cell_type": "code",
   "execution_count": 6,
   "id": "5e33d019",
   "metadata": {},
   "outputs": [],
   "source": [
    "splitter_conf = SplitterConf(\n",
    "    splitter=ListSplitter(field_name=\"items\"),\n",
    "    format_selector=FixedFormatSelector(strategy=\"fixed\", fixed_format=get_qualified_class_name(ItemProcessingResult)),\n",
    ")\n",
    "\n",
    "splitter_agent = (\n",
    "    AgentBuilder(SplitterAgent)\n",
    "    .set_id(\"SplitterAgent\")\n",
    "    .set_name(\"Purchase Order Splitter\")\n",
    "    .set_description(\"Splits a PurchaseOrderRequest into multiple ItemRequest messages\")\n",
    "    .set_properties(splitter_conf)\n",
    "    .add_additional_topic(\"purchase_orders\")\n",
    "    .listen_to_default_topic(False)\n",
    "    .build_spec()\n",
    ")"
   ]
  },
  {
   "cell_type": "markdown",
   "id": "4fd06b52",
   "metadata": {},
   "source": [
    "### Routing Rules - The Splitting Phase\n",
    "\n",
    "A simple message routed to the splitter agent to start the splitting phase"
   ]
  },
  {
   "cell_type": "code",
   "execution_count": 7,
   "id": "3410b1ad",
   "metadata": {},
   "outputs": [],
   "source": [
    "splitter_results_route = (\n",
    "    RouteBuilder(splitter_agent)\n",
    "    .on_message_format(ItemProcessingResult)\n",
    "    .set_destination_topics(\"item_processing_results\")\n",
    "    .set_route_times(-1)\n",
    "    .build()\n",
    ")"
   ]
  },
  {
   "cell_type": "markdown",
   "id": "39511b53",
   "metadata": {},
   "source": [
    "# Create the Guild"
   ]
  },
  {
   "cell_type": "code",
   "execution_count": 8,
   "id": "0ccbe74e",
   "metadata": {},
   "outputs": [],
   "source": [
    "import os\n",
    "from rustic_ai.core.guild.metastore import Metastore"
   ]
  },
  {
   "cell_type": "code",
   "execution_count": 9,
   "id": "fa5f0d84",
   "metadata": {},
   "outputs": [],
   "source": [
    "splitter_guild_builder = (\n",
    "    GuildBuilder(\n",
    "        guild_id=f\"splitter_guild{shortuuid.uuid()}\",\n",
    "        guild_name=\"SplitterGuild\",\n",
    "        guild_description=\"Demonstrates splitting of messages using SplitterAgent\",\n",
    "    )\n",
    "    .add_agent_spec(splitter_agent)\n",
    "    .add_route(splitter_results_route)\n",
    ")"
   ]
  },
  {
   "cell_type": "code",
   "execution_count": 10,
   "id": "c502be40",
   "metadata": {},
   "outputs": [],
   "source": [
    "db = \"sqlite:///splitter_demo.db\"\n",
    "\n",
    "if os.path.exists(\"splitter_demo.db\"):\n",
    "    os.remove(\"splitter_demo.db\")\n",
    "\n",
    "Metastore.initialize_engine(db)\n",
    "Metastore.get_engine(db)\n",
    "Metastore.create_db()"
   ]
  },
  {
   "cell_type": "code",
   "execution_count": null,
   "id": "e638a82a",
   "metadata": {},
   "outputs": [
    {
     "name": "stderr",
     "output_type": "stream",
     "text": [
      "WARNING:root:Dependencies configuration file not found.\n"
     ]
    },
    {
     "name": "stderr",
     "output_type": "stream",
     "text": [
      "WARNING:root:Dependencies configuration file not found.\n"
     ]
    },
    {
     "name": "stdout",
     "output_type": "stream",
     "text": [
      "{'id': 'splitter_guildA6Z5nRYKavYWGyvga82s3L', 'execution_engine': 'rustic_ai.core.guild.execution.sync.sync_exec_engine.SyncExecutionEngine', 'backend_class': 'EmbeddedMessagingBackend', 'organization_id': 'myorg', 'status': 'stopped', 'description': 'Demonstrates splitting of messages using SplitterAgent', 'name': 'SplitterGuild', 'backend_module': 'rustic_ai.core.messaging.backend.embedded_backend', 'backend_config': {}, 'dependency_map': {}}\n"
     ]
    }
   ],
   "source": [
    "guild = splitter_guild_builder.bootstrap(metastore_database_url=db, organization_id=\"myorg\")  # Use SQLite for simplicity"
   ]
  },
  {
   "cell_type": "markdown",
   "id": "ea1d144c",
   "metadata": {},
   "source": [
    "# Probe Agent steup"
   ]
  },
  {
   "cell_type": "code",
   "execution_count": 13,
   "id": "2974dbdb",
   "metadata": {},
   "outputs": [],
   "source": [
    "import time\n",
    "\n",
    "time.sleep(2)\n",
    "\n",
    "# Create probe agent to monitor the entire flow\n",
    "probe_spec = (\n",
    "    AgentBuilder(ProbeAgent)\n",
    "    .set_id(\"TestProbe\")\n",
    "    .set_name(\"Test Probe Agent\")\n",
    "    .set_description(\"Monitors the entire scatter-gather flow\")\n",
    "    .add_additional_topic(\"purchase_orders\") # Initial request\n",
    "    .add_additional_topic(\"item_processing_results\")  # Final results\n",
    "    .build_spec()\n",
    ")\n",
    "\n",
    "# Add probe agent to the bootstrapped guild\n",
    "probe_agent: ProbeAgent = guild._add_local_agent(probe_spec)  # type: ignore"
   ]
  },
  {
   "cell_type": "markdown",
   "id": "265792d7",
   "metadata": {},
   "source": [
    "# Test"
   ]
  },
  {
   "cell_type": "code",
   "execution_count": 15,
   "id": "930c4847",
   "metadata": {},
   "outputs": [
    {
     "name": "stdout",
     "output_type": "stream",
     "text": [
      "Sending PurchaseOrderRequest with ID: PO-12345\n",
      "Items: [{'id': 'item-001', 'quantity': 2}, {'id': 'item-002', 'quantity': 1}]\n"
     ]
    },
    {
     "data": {
      "text/plain": [
       "<rustic_ai.core.utils.gemstone_id.GemstoneID at 0x7fb461f56b70>"
      ]
     },
     "execution_count": 15,
     "metadata": {},
     "output_type": "execute_result"
    }
   ],
   "source": [
    "# Create test data for analysis\n",
    "test_order = PurchaseOrderRequest(\n",
    "    order_id=\"PO-12345\",\n",
    "    customer=\"ACME Corp\",\n",
    "    items=[{\"id\": \"item-001\", \"quantity\": 2}, {\"id\": \"item-002\", \"quantity\": 1}],\n",
    ")\n",
    "\n",
    "\n",
    "print(f\"Sending PurchaseOrderRequest with ID: {test_order.order_id}\")\n",
    "print(f\"Items: {test_order.items}\")\n",
    "\n",
    "# Send through probe agent to trigger the scatter-gather flow\n",
    "probe_agent.publish_with_guild_route(topic=\"purchase_orders\", payload=test_order)"
   ]
  },
  {
   "cell_type": "code",
   "execution_count": 16,
   "id": "0bade7c2",
   "metadata": {},
   "outputs": [
    {
     "name": "stdout",
     "output_type": "stream",
     "text": [
      "\n",
      "For message at index 0 (9567356143617970176):\n",
      "\t(purchase_orders) -> [Purchase Order Splitter/SplitterAgent:split_and_send] -> (item_processing_results)\n",
      "\n",
      "For message at index 1 (9567356143647330304):\n",
      "\t(purchase_orders) -> [Purchase Order Splitter/SplitterAgent:split_and_send] -> (item_processing_results)\n"
     ]
    }
   ],
   "source": [
    "# Let's check the message history to see the complete flow\n",
    "probe_agent.print_all_history()"
   ]
  },
  {
   "cell_type": "code",
   "execution_count": 17,
   "id": "2758287a",
   "metadata": {},
   "outputs": [
    {
     "data": {
      "text/plain": [
       "[Message(sender=AgentTag(id='SplitterAgent', name='Purchase Order Splitter'), topics='item_processing_results', recipient_list=[], payload={'id': 'item-001', 'quantity': 2}, format='__main__.ItemProcessingResult', in_response_to=9567356143601197056, thread=[9567356143601197056], conversation_id=None, forward_header=None, routing_slip=RoutingSlip(steps=[RoutingRule(agent=AgentTag(id=None, name='Purchase Order Splitter'), agent_type=None, method_name=None, origin_filter=None, message_format='__main__.ItemProcessingResult', destination=RoutingDestination(topics='item_processing_results', recipient_list=[], priority=None), mark_forwarded=False, route_times=-2, transformer=None, agent_state_update=None, guild_state_update=None, process_status=None)]), message_history=[ProcessEntry(agent=AgentTag(id='SplitterAgent', name='Purchase Order Splitter'), origin=9567356143601197056, result=9567356143617970176, processor='split_and_send', from_topic='purchase_orders', to_topics=['item_processing_results'])], ttl=None, is_error_message=False, traceparent=None, session_state={}, topic_published_to='item_processing_results', enrich_with_history=0, process_status=None, id=9567356143617970176, priority=<Priority.NORMAL: 4>, timestamp=1754543401968, current_thread_id=9567356143601197056, root_thread_id=9567356143601197056),\n",
       " Message(sender=AgentTag(id='SplitterAgent', name='Purchase Order Splitter'), topics='item_processing_results', recipient_list=[], payload={'id': 'item-002', 'quantity': 1}, format='__main__.ItemProcessingResult', in_response_to=9567356143601197056, thread=[9567356143601197056], conversation_id=None, forward_header=None, routing_slip=RoutingSlip(steps=[RoutingRule(agent=AgentTag(id=None, name='Purchase Order Splitter'), agent_type=None, method_name=None, origin_filter=None, message_format='__main__.ItemProcessingResult', destination=RoutingDestination(topics='item_processing_results', recipient_list=[], priority=None), mark_forwarded=False, route_times=-3, transformer=None, agent_state_update=None, guild_state_update=None, process_status=None)]), message_history=[ProcessEntry(agent=AgentTag(id='SplitterAgent', name='Purchase Order Splitter'), origin=9567356143601197056, result=9567356143647330304, processor='split_and_send', from_topic='purchase_orders', to_topics=['item_processing_results'])], ttl=None, is_error_message=False, traceparent=None, session_state={}, topic_published_to='item_processing_results', enrich_with_history=0, process_status=None, id=9567356143647330304, priority=<Priority.NORMAL: 4>, timestamp=1754543401975, current_thread_id=9567356143601197056, root_thread_id=9567356143601197056)]"
      ]
     },
     "execution_count": 17,
     "metadata": {},
     "output_type": "execute_result"
    }
   ],
   "source": [
    "probe_agent.get_messages()"
   ]
  },
  {
   "cell_type": "code",
   "execution_count": 19,
   "id": "bad20b15",
   "metadata": {},
   "outputs": [],
   "source": [
    "from rustic_ai.core.agents.system.models import StopGuildRequest\n",
    "\n",
    "\n",
    "probe_agent.publish_with_guild_route(\n",
    "    topic=GuildTopics.SYSTEM_TOPIC, payload=StopGuildRequest(guild_id=guild.id)\n",
    ")  # Send the test request to start the flow\n",
    "\n",
    "guild.shutdown()"
   ]
  },
  {
   "cell_type": "code",
   "execution_count": 20,
   "id": "f3fa6410",
   "metadata": {},
   "outputs": [],
   "source": [
    "spec = splitter_guild_builder.build_spec()\n",
    "dict_dump = spec.model_dump()"
   ]
  },
  {
   "cell_type": "code",
   "execution_count": 21,
   "id": "54f66926",
   "metadata": {},
   "outputs": [
    {
     "data": {
      "text/plain": [
       "{'id': 'splitter_guildA6Z5nRYKavYWGyvga82s3L',\n",
       " 'name': 'SplitterGuild',\n",
       " 'description': 'Demonstrates splitting of messages using SplitterAgent',\n",
       " 'properties': {},\n",
       " 'agents': [{'id': 'SplitterAgent',\n",
       "   'name': 'Purchase Order Splitter',\n",
       "   'description': 'Splits a PurchaseOrderRequest into multiple ItemRequest messages',\n",
       "   'class_name': 'rustic_ai.core.agents.eip.splitter_agent.SplitterAgent',\n",
       "   'additional_topics': ['purchase_orders'],\n",
       "   'properties': {'splitter': {'split_type': 'list', 'field_name': 'items'},\n",
       "    'format_selector': {'strategy': 'fixed',\n",
       "     'fixed_format': '__main__.ItemProcessingResult'}},\n",
       "   'listen_to_default_topic': False,\n",
       "   'act_only_when_tagged': False,\n",
       "   'predicates': {},\n",
       "   'dependency_map': {},\n",
       "   'resources': {'num_cpus': None, 'num_gpus': None, 'custom_resources': {}},\n",
       "   'qos': {'timeout': None, 'retry_count': None, 'latency': None}}],\n",
       " 'dependency_map': {},\n",
       " 'routes': {'steps': [{'agent': {'id': None,\n",
       "     'name': 'Purchase Order Splitter'},\n",
       "    'agent_type': None,\n",
       "    'method_name': None,\n",
       "    'origin_filter': None,\n",
       "    'message_format': '__main__.ItemProcessingResult',\n",
       "    'destination': {'topics': 'item_processing_results',\n",
       "     'recipient_list': [],\n",
       "     'priority': None},\n",
       "    'mark_forwarded': False,\n",
       "    'route_times': -1,\n",
       "    'transformer': None,\n",
       "    'agent_state_update': None,\n",
       "    'guild_state_update': None,\n",
       "    'process_status': None}]}}"
      ]
     },
     "execution_count": 21,
     "metadata": {},
     "output_type": "execute_result"
    }
   ],
   "source": [
    "dict_dump"
   ]
  },
  {
   "cell_type": "code",
   "execution_count": 22,
   "id": "c70cf92a",
   "metadata": {},
   "outputs": [],
   "source": [
    "import yaml\n",
    "with open('/home/nihal/Projects/ai-platform/rustic-ai/examples/notebooks/eip/007_splitter.yaml', 'w') as f:\n",
    "    yaml.dump(dict_dump, f)"
   ]
  },
  {
   "cell_type": "code",
   "execution_count": null,
   "id": "8f8640a2",
   "metadata": {},
   "outputs": [],
   "source": []
  }
 ],
 "metadata": {
  "kernelspec": {
   "display_name": "dragonscale-ai-platform-DThhIUXV-py3.12",
   "language": "python",
   "name": "python3"
  },
  "language_info": {
   "codemirror_mode": {
    "name": "ipython",
    "version": 3
   },
   "file_extension": ".py",
   "mimetype": "text/x-python",
   "name": "python",
   "nbconvert_exporter": "python",
   "pygments_lexer": "ipython3",
   "version": "3.12.0"
  }
 },
 "nbformat": 4,
 "nbformat_minor": 5
}
