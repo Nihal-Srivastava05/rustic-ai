{
 "cells": [
  {
   "cell_type": "markdown",
   "id": "b04ece16",
   "metadata": {},
   "source": [
    "# 007 Splitter Pattern"
   ]
  },
  {
   "cell_type": "code",
   "execution_count": 1,
   "id": "1b16e134",
   "metadata": {},
   "outputs": [],
   "source": [
    "from enum import StrEnum\n",
    "from typing import List, Optional, Union\n",
    "from jsonata import Jsonata\n",
    "from pydantic import BaseModel, Field\n",
    "from typing import List, Dict, Any"
   ]
  },
  {
   "cell_type": "code",
   "execution_count": 2,
   "id": "1ac02a83",
   "metadata": {},
   "outputs": [],
   "source": [
    "# Import required libraries and modules\n",
    "import uuid\n",
    "\n",
    "from rustic_ai.core.agents.eip.aggregating_agent import (\n",
    "    AggregatedMessages,\n",
    "    AggregatingAgent,\n",
    "    AggregatorConf,\n",
    "    CountingAggregator,\n",
    "    DictCollector,\n",
    ")\n",
    "from rustic_ai.core.agents.eip.basic_wiring_agent import BasicWiringAgent\n",
    "from rustic_ai.core.agents.testutils.probe_agent import ProbeAgent\n",
    "from rustic_ai.core.guild.builders import AgentBuilder, GuildBuilder, RouteBuilder\n",
    "from rustic_ai.core.utils.basic_class_utils import get_qualified_class_name\n",
    "from rustic_ai.core.utils.jexpr import JExpr, JObj, JxScript"
   ]
  },
  {
   "cell_type": "code",
   "execution_count": 3,
   "id": "12a78100",
   "metadata": {},
   "outputs": [],
   "source": [
    "class PurchaseOrderRequest(BaseModel):\n",
    "    order_id: str\n",
    "    items: List[Dict[str, Any]]\n",
    "    customer: str"
   ]
  },
  {
   "cell_type": "code",
   "execution_count": 4,
   "id": "f2bd0ccc",
   "metadata": {},
   "outputs": [],
   "source": [
    "class ItemProcessingResult(BaseModel):\n",
    "    order_id: str\n",
    "    item_id: str\n",
    "    status: str\n",
    "    processed_price: float"
   ]
  },
  {
   "cell_type": "code",
   "execution_count": 5,
   "id": "8915d3b1",
   "metadata": {},
   "outputs": [],
   "source": [
    "from rustic_ai.core.agents.eip.splitter_agent import SplitterConf, SplitterAgent, JsonataSplitter, FormatSelector, FormatSelectorStrategies"
   ]
  },
  {
   "cell_type": "code",
   "execution_count": 6,
   "id": "c2fc5c39",
   "metadata": {},
   "outputs": [],
   "source": [
    "from rustic_ai.core.utils.jx import JExpr\n",
    "from rustic_ai.core.utils.basic_class_utils import get_qualified_class_name"
   ]
  },
  {
   "cell_type": "code",
   "execution_count": 7,
   "id": "853b6ef7",
   "metadata": {},
   "outputs": [],
   "source": [
    "splitter_conf = SplitterConf(\n",
    "    splitter=JsonataSplitter(\n",
    "        expression= JExpr('$map(payload.items, function($v) {$merge([$v, {\"order_id\": payload.order_id}, {\"customer\": payload.customer}] ) } )').serialize()\n",
    "    ),\n",
    "    format_selector=FormatSelector(\n",
    "        strategy=FormatSelectorStrategies.FIXED,\n",
    "        fixed_format=get_qualified_class_name(ItemProcessingResult)\n",
    "    ),\n",
    "    topics=[\"purchase_orders\"]\n",
    ")"
   ]
  },
  {
   "cell_type": "code",
   "execution_count": 8,
   "id": "bc5cd959",
   "metadata": {},
   "outputs": [],
   "source": [
    "splitter_agent = (\n",
    "    AgentBuilder(SplitterAgent)\n",
    "    .set_id(\"SplitterAgent\")\n",
    "    .set_name(\"Purchase Order Splitter\")\n",
    "    .set_description(\"Splits a PurchaseOrderRequest into multiple ItemRequest messages\")\n",
    "    .set_properties(splitter_conf)\n",
    "    .add_additional_topic(\"purchase_orders\")\n",
    "    .listen_to_default_topic(False)\n",
    "    .build_spec()\n",
    ")"
   ]
  },
  {
   "cell_type": "code",
   "execution_count": 9,
   "id": "3e734130",
   "metadata": {},
   "outputs": [],
   "source": [
    "from rustic_ai.core.utils.json_utils import JsonDict"
   ]
  },
  {
   "cell_type": "code",
   "execution_count": 10,
   "id": "1768a700",
   "metadata": {},
   "outputs": [],
   "source": [
    "split_route = (\n",
    "    RouteBuilder(splitter_agent)\n",
    "    .on_message_format(PurchaseOrderRequest)\n",
    "    .set_functional_transformer(\n",
    "        functional_xform=JxScript(\n",
    "            JObj({\n",
    "                \"format\": get_qualified_class_name(JsonDict),\n",
    "                \"payload\": JExpr(\"payload\")\n",
    "            })\n",
    "        )\n",
    "    )\n",
    "    .set_destination_topics(\"purchase_orders\")\n",
    "    .build()\n",
    ")\n"
   ]
  },
  {
   "cell_type": "code",
   "execution_count": 11,
   "id": "2e82fbbb",
   "metadata": {},
   "outputs": [],
   "source": [
    "guild_builder = (\n",
    "    GuildBuilder(\n",
    "        guild_id=\"SplitterGuild\",\n",
    "        guild_name=\"Purchase Order Split Demo\",\n",
    "        guild_description=\"Demonstrates splitting of messages using SplitterAgent\"\n",
    "    )\n",
    "    .add_agent_spec(splitter_agent)\n",
    "    .add_route(split_route)\n",
    ")"
   ]
  },
  {
   "cell_type": "code",
   "execution_count": 12,
   "id": "364c7758",
   "metadata": {},
   "outputs": [],
   "source": [
    "import os\n",
    "from rustic_ai.core.guild.metastore.database import Metastore"
   ]
  },
  {
   "cell_type": "code",
   "execution_count": 13,
   "id": "0f3816af",
   "metadata": {},
   "outputs": [
    {
     "name": "stderr",
     "output_type": "stream",
     "text": [
      "WARNING:root:Dependencies configuration file not found.\n",
      "WARNING:root:Dependencies configuration file not found.\n"
     ]
    }
   ],
   "source": [
    "# === Bootstrap ===\n",
    "\n",
    "db = \"sqlite:///splitter_demo.db\"\n",
    "if os.path.exists(\"splitter_demo.db\"):\n",
    "    os.remove(\"splitter_demo.db\")   \n",
    "\n",
    "Metastore.initialize_engine(db)\n",
    "Metastore.get_engine(db)\n",
    "Metastore.create_db()\n",
    "\n",
    "guild = guild_builder.bootstrap(metastore_database_url=db, organization_id=\"demo-org\")\n"
   ]
  },
  {
   "cell_type": "code",
   "execution_count": 14,
   "id": "e8d2582c",
   "metadata": {},
   "outputs": [],
   "source": [
    "from rustic_ai.core.utils import GemstoneGenerator, Priority"
   ]
  },
  {
   "cell_type": "code",
   "execution_count": 15,
   "id": "7c752dea",
   "metadata": {},
   "outputs": [],
   "source": [
    "generator = GemstoneGenerator(17)"
   ]
  },
  {
   "cell_type": "code",
   "execution_count": 16,
   "id": "9e2767d9",
   "metadata": {},
   "outputs": [],
   "source": [
    "# === Add Probe Agent ===\n",
    "import time\n",
    "\n",
    "time.sleep(2)\n",
    "\n",
    "probe_agent = (\n",
    "    AgentBuilder(ProbeAgent)\n",
    "    .set_id(\"TestProbe\")\n",
    "    .set_name(\"Test Probe Agent\")\n",
    "    .set_description(\"Monitors the splitter flow\")\n",
    "    .add_additional_topic(\"purchase_orders\")\n",
    "    .add_additional_topic(\"split_order_items\")\n",
    "    .add_additional_topic(\"item_processing_results\")\n",
    "    .build()\n",
    ")\n",
    "\n",
    "guild._add_local_agent(probe_agent)"
   ]
  },
  {
   "cell_type": "code",
   "execution_count": 17,
   "id": "d2512a8e",
   "metadata": {},
   "outputs": [],
   "source": [
    "test_order = PurchaseOrderRequest(\n",
    "    order_id=\"PO-12345\",\n",
    "    customer=\"ACME Corp\",\n",
    "    items=[\n",
    "        {\"id\": \"item-001\", \"quantity\": 2},\n",
    "        {\"id\": \"item-002\", \"quantity\": 1}\n",
    "    ]\n",
    ")\n"
   ]
  },
  {
   "cell_type": "code",
   "execution_count": 18,
   "id": "788e8655",
   "metadata": {},
   "outputs": [],
   "source": [
    "from rustic_ai.core.messaging.core.message import AgentTag, Message"
   ]
  },
  {
   "cell_type": "code",
   "execution_count": 19,
   "id": "67465e17",
   "metadata": {},
   "outputs": [
    {
     "data": {
      "text/plain": [
       "<rustic_ai.core.utils.gemstone_id.GemstoneID at 0x7f9a5c28b800>"
      ]
     },
     "execution_count": 19,
     "metadata": {},
     "output_type": "execute_result"
    }
   ],
   "source": [
    "probe_agent.publish_dict(\n",
    "    topic=\"purchase_orders\",\n",
    "    payload=test_order.model_dump(),\n",
    "    format=get_qualified_class_name(PurchaseOrderRequest),\n",
    "    msg_id=generator.get_id(Priority.NORMAL)\n",
    ")"
   ]
  },
  {
   "cell_type": "code",
   "execution_count": 25,
   "id": "973c599c",
   "metadata": {},
   "outputs": [
    {
     "data": {
      "text/plain": [
       "[]"
      ]
     },
     "execution_count": 25,
     "metadata": {},
     "output_type": "execute_result"
    }
   ],
   "source": [
    "probe_agent.get_messages()"
   ]
  },
  {
   "cell_type": "code",
   "execution_count": 21,
   "id": "644a1d3b",
   "metadata": {},
   "outputs": [],
   "source": [
    "from rustic_ai.core.guild.dsl import GuildTopics"
   ]
  },
  {
   "cell_type": "code",
   "execution_count": 24,
   "id": "dcd8f884",
   "metadata": {},
   "outputs": [
    {
     "data": {
      "text/plain": [
       "[Message(sender=AgentTag(id='TestProbe', name='Test Probe Agent'), topics='purchase_orders', recipient_list=[], payload={'order_id': 'PO-12345', 'items': [{'id': 'item-001', 'quantity': 2}, {'id': 'item-002', 'quantity': 1}], 'customer': 'ACME Corp'}, format='__main__.PurchaseOrderRequest', in_response_to=None, thread=[9566072168073203712], conversation_id=None, forward_header=None, routing_slip=None, message_history=[], ttl=None, is_error_message=False, traceparent=None, session_state=None, topic_published_to='purchase_orders', enrich_with_history=0, id=9566072168073203712, priority=<Priority.NORMAL: 4>, timestamp=1754237278343, current_thread_id=9566072168073203712, root_thread_id=9566072168073203712)]"
      ]
     },
     "execution_count": 24,
     "metadata": {},
     "output_type": "execute_result"
    }
   ],
   "source": [
    "probe_agent._client._messaging.get_messages_for_topic_since(\n",
    "    topic=\"purchase_orders\",\n",
    "    msg_id_since=0\n",
    ")"
   ]
  },
  {
   "cell_type": "markdown",
   "id": "ce20a5d2",
   "metadata": {},
   "source": []
  },
  {
   "cell_type": "code",
   "execution_count": 31,
   "id": "cfad361d",
   "metadata": {},
   "outputs": [],
   "source": [
    "spec = guild_builder.build_spec()\n",
    "dict_obj = spec.model_dump()"
   ]
  },
  {
   "cell_type": "code",
   "execution_count": 32,
   "id": "c4d63392",
   "metadata": {},
   "outputs": [],
   "source": [
    "import yaml"
   ]
  },
  {
   "cell_type": "code",
   "execution_count": 33,
   "id": "45ba258a",
   "metadata": {},
   "outputs": [],
   "source": [
    "yaml_string = yaml.dump(dict_obj)"
   ]
  },
  {
   "cell_type": "code",
   "execution_count": 36,
   "id": "31717b95",
   "metadata": {},
   "outputs": [],
   "source": [
    "with open('/home/nihal/Projects/ai-platform/rustic-ai/examples/notebooks/eip/007_splitter.yaml', 'w') as f:\n",
    "    yaml.dump(dict_obj, f)"
   ]
  },
  {
   "cell_type": "code",
   "execution_count": 34,
   "id": "0e30837a",
   "metadata": {},
   "outputs": [
    {
     "data": {
      "text/plain": [
       "'agents:\\n- act_only_when_tagged: false\\n  additional_topics:\\n  - purchase_orders\\n  class_name: rustic_ai.core.agents.eip.splitter_agent.SplitterAgent\\n  dependency_map: {}\\n  description: Splits a PurchaseOrderRequest into multiple ItemRequest messages\\n  id: SplitterAgent\\n  listen_to_default_topic: false\\n  name: Purchase Order Splitter\\n  predicates: {}\\n  properties:\\n    delimiter: \\',\\'\\n    format_selector:\\n      fixed_format: __main__.ItemProcessingResult\\n      format_list: null\\n      jsonata_expr: null\\n      strategy: !!python/object/apply:rustic_ai.core.agents.eip.splitter_agent.FormatSelectorStrategies\\n      - fixed\\n    splitter:\\n      expression: \\'$map(payload.items, function($v) {$merge([$v, {\"order_id\": payload.order_id},\\n        {\"customer\": payload.customer}] ) } )\\'\\n      split_type: jsonata\\n    topics:\\n    - purchase_orders\\n  qos:\\n    latency: null\\n    retry_count: null\\n    timeout: null\\n  resources:\\n    custom_resources: {}\\n    num_cpus: null\\n    num_gpus: null\\nconfiguration: {}\\ndependency_map: {}\\ndescription: Demonstrates splitting of messages using SplitterAgent\\nid: SplitterGuild\\nname: Purchase Order Split Demo\\nproperties: {}\\nroutes:\\n  steps:\\n  - agent:\\n      id: null\\n      name: Purchase Order Splitter\\n    agent_state_update: null\\n    agent_type: null\\n    destination:\\n      priority: null\\n      recipient_list: []\\n      topics: purchase_orders\\n    guild_state_update: null\\n    mark_forwarded: false\\n    message_format: __main__.PurchaseOrderRequest\\n    method_name: null\\n    origin_filter: null\\n    route_times: 1\\n    transformer:\\n      handler: \\'({\"format\": \"typing.Dict\", \"payload\": payload})\\'\\n      style: content_based_router\\n'"
      ]
     },
     "execution_count": 34,
     "metadata": {},
     "output_type": "execute_result"
    }
   ],
   "source": [
    "yaml_string"
   ]
  },
  {
   "cell_type": "code",
   "execution_count": 28,
   "id": "5e5072a8",
   "metadata": {},
   "outputs": [],
   "source": [
    "# from rustic_ai.core.agents.system.models import StopGuildRequest\n",
    "\n",
    "\n",
    "# probe_agent.publish_with_guild_route(\n",
    "#     topic=GuildTopics.SYSTEM_TOPIC, payload=StopGuildRequest(guild_id=guild.id)\n",
    "# )  # Send the test request to start the flow\n",
    "\n",
    "# guild.shutdown()"
   ]
  },
  {
   "cell_type": "code",
   "execution_count": null,
   "id": "8849fabf",
   "metadata": {},
   "outputs": [],
   "source": []
  }
 ],
 "metadata": {
  "kernelspec": {
   "display_name": "dragonscale-ai-platform-DThhIUXV-py3.12",
   "language": "python",
   "name": "python3"
  },
  "language_info": {
   "codemirror_mode": {
    "name": "ipython",
    "version": 3
   },
   "file_extension": ".py",
   "mimetype": "text/x-python",
   "name": "python",
   "nbconvert_exporter": "python",
   "pygments_lexer": "ipython3",
   "version": "3.12.0"
  }
 },
 "nbformat": 4,
 "nbformat_minor": 5
}
