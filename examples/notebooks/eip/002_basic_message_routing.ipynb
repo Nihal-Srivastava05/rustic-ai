{
 "cells": [
  {
   "cell_type": "markdown",
   "id": "07df7f8c",
   "metadata": {},
   "source": [
    "## Basic Message Routing (Format Based)\n",
    "\n",
    "This notebook demonstrates simple routing, picking up messages from one topic and writing it to different topic based on the message format.\n",
    "\n",
    "Simple routing allows filtering using:\n",
    "- origin_sender\n",
    "- origin_topic\n",
    "- origin_message_format\n",
    "\n",
    "In this case, we are routing based on origin message format.\n",
    "\n",
    "[ProbeAgent] --_MessageType1_-> (default_topic) -> [Routing Agent/RoutingAgent:wire_message] -> (**topic_1**)\n",
    "\n",
    "[ProbeAgent] --_MessageType2_-> (default_topic) -> [Routing Agent/RoutingAgent:wire_message] -> (**topic_2**)\n"
   ]
  },
  {
   "cell_type": "code",
   "execution_count": 1,
   "id": "82c78649",
   "metadata": {},
   "outputs": [],
   "source": [
    "# Define different message types\n",
    "\n",
    "from pydantic import BaseModel\n",
    "\n",
    "class MessageType1(BaseModel):\n",
    "    content: str\n",
    "\n",
    "class MessageType2(BaseModel):\n",
    "    content: str\n",
    "    additional_info: str"
   ]
  },
  {
   "cell_type": "code",
   "execution_count": 2,
   "id": "b6e85d78",
   "metadata": {},
   "outputs": [
    {
     "name": "stderr",
     "output_type": "stream",
     "text": [
      "WARNING:root:Dependencies configuration file not found.\n"
     ]
    }
   ],
   "source": [
    "# Create a wiring agent\n",
    "\n",
    "from rustic_ai.core.agents.eip.basic_wiring_agent import BasicWiringAgent\n",
    "from rustic_ai.core.guild.builders import AgentBuilder, GuildBuilder, RouteBuilder\n",
    "from rustic_ai.core.utils.basic_class_utils import get_qualified_class_name\n",
    "\n",
    "routing_agent = (\n",
    "    AgentBuilder(BasicWiringAgent)\n",
    "    .set_id(\"RoutingAgent\")\n",
    "    .set_name(\"Routing Agent\")\n",
    "    .set_description(\"A simple message router that routes messages based on their type.\")\n",
    "    .build_spec()\n",
    ")\n",
    "\n",
    "# Create the Routing Rule for MessageType1\n",
    "\n",
    "routing_rule_one = (\n",
    "    RouteBuilder(routing_agent)\n",
    "    .filter_on_origin(origin_message_format=get_qualified_class_name(MessageType1))\n",
    "    .set_destination_topics(\"topic_1\")\n",
    "    .build()\n",
    ")\n",
    "\n",
    "# Create the Routing Rule for MessageType2\n",
    "routing_rule_two = (\n",
    "    RouteBuilder(routing_agent)\n",
    "    .filter_on_origin(origin_message_format=get_qualified_class_name(MessageType2))\n",
    "    .set_destination_topics(\"topic_2\")\n",
    "    .build()\n",
    ")\n",
    "\n",
    "# Create the Guild with the Routing Agent and the Routing Rules\n",
    "guild = (\n",
    "    GuildBuilder(\n",
    "        guild_id=\"MessageRouterGuild\",\n",
    "        guild_name=\"Message Router Guild\",\n",
    "        guild_description=\"A guild that routes messages based on their type.\",\n",
    "    )\n",
    "    .add_agent_spec(routing_agent)\n",
    "    .add_route(routing_rule_one)\n",
    "    .add_route(routing_rule_two)\n",
    "    .launch(\"myorg\")\n",
    ")"
   ]
  },
  {
   "cell_type": "code",
   "execution_count": 3,
   "id": "78c12878",
   "metadata": {},
   "outputs": [],
   "source": [
    "from rustic_ai.core.agents.testutils.probe_agent import ProbeAgent\n",
    "\n",
    "probe_agent = (\n",
    "    AgentBuilder(ProbeAgent)\n",
    "    .set_id(\"ProbeAgent\")\n",
    "    .set_name(\"Probe Agent\")\n",
    "    .set_description(\"A probe agent to test the routing of messages.\")\n",
    "    .add_additional_topic(\"topic_1\")\n",
    "    .add_additional_topic(\"topic_2\")\n",
    "    .build()\n",
    ")\n",
    "\n",
    "guild._add_local_agent(probe_agent)"
   ]
  },
  {
   "cell_type": "code",
   "execution_count": null,
   "id": "d320b37e",
   "metadata": {},
   "outputs": [
    {
     "data": {
      "text/plain": [
       "<rustic_ai.core.utils.gemstone_id.GemstoneID at 0x7fd74496e180>"
      ]
     },
     "execution_count": 4,
     "metadata": {},
     "output_type": "execute_result"
    }
   ],
   "source": [
    "from rustic_ai.core.guild.dsl import GuildTopics\n",
    "\n",
    "guild_default_topic = GuildTopics.DEFAULT_TOPICS[0]\n",
    "\n",
    "probe_agent.publish_with_guild_route(\n",
    "    payload=MessageType1(content=\"Hello from MessageType1!\"),\n",
    "    topic=guild_default_topic,\n",
    ")"
   ]
  },
  {
   "cell_type": "code",
   "execution_count": 5,
   "id": "4cb09b19",
   "metadata": {},
   "outputs": [
    {
     "name": "stdout",
     "output_type": "stream",
     "text": [
      "(default_topic) -> [Routing Agent/RoutingAgent:wire_message] -> (topic_1)\n"
     ]
    }
   ],
   "source": [
    "probe_agent.print_message_history()"
   ]
  },
  {
   "cell_type": "code",
   "execution_count": 6,
   "id": "2d257659",
   "metadata": {},
   "outputs": [
    {
     "data": {
      "text/plain": [
       "<rustic_ai.core.utils.gemstone_id.GemstoneID at 0x7fd72b1d2d50>"
      ]
     },
     "execution_count": 6,
     "metadata": {},
     "output_type": "execute_result"
    }
   ],
   "source": [
    "probe_agent.publish_with_guild_route(\n",
    "    payload=MessageType2(content=\"Hello from MessageType2!\", additional_info=\"Some extra info\"),\n",
    "    topic=guild_default_topic,\n",
    ")"
   ]
  },
  {
   "cell_type": "code",
   "execution_count": 7,
   "id": "a707975d",
   "metadata": {},
   "outputs": [
    {
     "name": "stdout",
     "output_type": "stream",
     "text": [
      "(default_topic) -> [Routing Agent/RoutingAgent:wire_message] -> (topic_2)\n"
     ]
    }
   ],
   "source": [
    "probe_agent.print_message_history()"
   ]
  },
  {
   "cell_type": "code",
   "execution_count": null,
   "id": "b30da3c5",
   "metadata": {},
   "outputs": [],
   "source": []
  }
 ],
 "metadata": {
  "kernelspec": {
   "display_name": "rusticai-python-framework-mrvUAtfg-py3.12",
   "language": "python",
   "name": "python3"
  },
  "language_info": {
   "codemirror_mode": {
    "name": "ipython",
    "version": 3
   },
   "file_extension": ".py",
   "mimetype": "text/x-python",
   "name": "python",
   "nbconvert_exporter": "python",
   "pygments_lexer": "ipython3",
   "version": "3.12.11"
  }
 },
 "nbformat": 4,
 "nbformat_minor": 5
}
