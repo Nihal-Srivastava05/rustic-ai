{
 "cells": [
  {
   "cell_type": "markdown",
   "id": "e943d435",
   "metadata": {},
   "source": [
    "## Message Translator (FunctionalTransformer from YAML spec)\n",
    "\n",
    "This notebook demonstrates the Message Translator pattern using a `FunctionalTransformer` defined in a YAML guild specification. Unlike PayloadTransformer which only transforms the payload, FunctionalTransformer can modify the entire MessageRoutable including routing information.\n",
    "\n",
    "**Input Format**: `OrderRequest` - An e-commerce order  \n",
    "**Output Format**: `InventoryCheck` - An inventory validation request\n",
    "\n",
    "**YAML Transformation Benefits:**\n",
    "- **Declarative Configuration**: Guild specification is defined in YAML\n",
    "- **Variable Assignment**: Uses JSONata variable assignments for better readability\n",
    "- **Dynamic Routing**: Routes messages based on calculated order totals\n",
    "- **Complex Logic**: Handles both payload transformation and routing decisions\n",
    "- **Reusable Variables**: Intermediate calculations broken into named components\n",
    "\n",
    "The YAML specification includes a structured JSONata expression that:\n",
    "1. Assigns intermediate variables for ID generation and calculations\n",
    "2. Calculates order totals and determines priority levels\n",
    "3. Maps order items to inventory check format\n",
    "4. Makes dynamic routing decisions based on order value\n",
    "5. Builds the complete MessageRoutable structure\n",
    "\n",
    "The flow will be:\n",
    "\n",
    "[ProbeAgent] --`OrderRequest`-> (default_topic) -> [Translator Agent/TranslatorAgent:wire_message] --`InventoryCheck`-> (inventory_high_priority | inventory_normal)\n",
    "\n",
    "The routing destination is determined based on the order total during translation."
   ]
  },
  {
   "cell_type": "code",
   "execution_count": null,
   "id": "9631dd14",
   "metadata": {},
   "outputs": [],
   "source": [
    "from pydantic import BaseModel\n",
    "from typing import List\n",
    "\n",
    "# Input message format - e-commerce order\n",
    "class OrderItem(BaseModel):\n",
    "    product_id: str\n",
    "    quantity: int\n",
    "    unit_price: float\n",
    "\n",
    "class OrderRequest(BaseModel):\n",
    "    order_id: str\n",
    "    customer_id: str\n",
    "    items: List[OrderItem]\n",
    "    shipping_address: str\n",
    "\n",
    "# Output message format - inventory check\n",
    "class InventoryItem(BaseModel):\n",
    "    sku: str\n",
    "    requested_quantity: int\n",
    "    \n",
    "class InventoryCheck(BaseModel):\n",
    "    check_id: str\n",
    "    order_reference: str\n",
    "    customer_reference: str\n",
    "    items_to_check: List[InventoryItem]\n",
    "    total_value: float\n",
    "    priority_level: str"
   ]
  },
  {
   "cell_type": "code",
   "execution_count": null,
   "id": "493e0037",
   "metadata": {},
   "outputs": [],
   "source": [
    "from rustic_ai.core.guild.builders import GuildBuilder\n",
    "\n",
    "# Load the guild from YAML specification\n",
    "guild = GuildBuilder.from_yaml_file(\"./005_message_translator_functional.yaml\").launch(\"myorg\")"
   ]
  },
  {
   "cell_type": "code",
   "execution_count": null,
   "id": "517b138a",
   "metadata": {},
   "outputs": [],
   "source": [
    "from rustic_ai.core.agents.testutils.probe_agent import ProbeAgent\n",
    "from rustic_ai.core.guild.builders import AgentBuilder\n",
    "from rustic_ai.core.guild.dsl import GuildTopics\n",
    "\n",
    "guild_default_topic = GuildTopics.DEFAULT_TOPICS[0]\n",
    "\n",
    "probe_agent = (\n",
    "    AgentBuilder(ProbeAgent)\n",
    "    .set_id(\"ProbeAgent\")\n",
    "    .set_name(\"Probe Agent\")\n",
    "    .set_description(\"A probe agent to test message translation with dynamic routing.\")\n",
    "    .add_additional_topic(\"inventory_high_priority\")\n",
    "    .add_additional_topic(\"inventory_normal\")\n",
    "    .build()\n",
    ")\n",
    "\n",
    "guild._add_local_agent(probe_agent)"
   ]
  },
  {
   "cell_type": "code",
   "execution_count": null,
   "id": "a21cc4c8",
   "metadata": {},
   "outputs": [],
   "source": [
    "# Send a high-value order (should route to inventory_high_priority)\n",
    "high_value_order = OrderRequest(\n",
    "    order_id=\"ORD-001\",\n",
    "    customer_id=\"CUST-12345\",\n",
    "    items=[\n",
    "        OrderItem(product_id=\"LAPTOP-001\", quantity=2, unit_price=899.99),  # $1799.98\n",
    "        OrderItem(product_id=\"MOUSE-001\", quantity=2, unit_price=49.99)     # $99.98\n",
    "    ],  # Total: $1899.96 (> $1000, should be high priority)\n",
    "    shipping_address=\"123 Main St, City, State 12345\"\n",
    ")\n",
    "\n",
    "# Calculate total for demonstration\n",
    "total_value = sum(item.quantity * item.unit_price for item in high_value_order.items)\n",
    "print(f\"High-value order total: ${total_value:.2f} (should route to high priority)\")\n",
    "\n",
    "probe_agent.publish_with_guild_route(\n",
    "    payload=high_value_order,\n",
    "    topic=guild_default_topic,\n",
    ")"
   ]
  },
  {
   "cell_type": "code",
   "execution_count": null,
   "id": "395c4306",
   "metadata": {},
   "outputs": [],
   "source": [
    "# Check the translated message and routing\n",
    "probe_agent.print_message_history()"
   ]
  },
  {
   "cell_type": "code",
   "execution_count": null,
   "id": "c8e05189",
   "metadata": {},
   "outputs": [],
   "source": [
    "# Send a low-value order (should route to inventory_normal)\n",
    "low_value_order = OrderRequest(\n",
    "    order_id=\"ORD-002\", \n",
    "    customer_id=\"CUST-67890\",\n",
    "    items=[\n",
    "        OrderItem(product_id=\"BOOK-001\", quantity=3, unit_price=15.99),    # $47.97\n",
    "        OrderItem(product_id=\"PEN-001\", quantity=5, unit_price=2.50)       # $12.50\n",
    "    ],  # Total: $60.47 (< $1000, should be normal priority)\n",
    "    shipping_address=\"456 Oak Ave, Town, State 67890\"\n",
    ")\n",
    "\n",
    "# Calculate total for demonstration\n",
    "total_value = sum(item.quantity * item.unit_price for item in low_value_order.items)\n",
    "print(f\"Low-value order total: ${total_value:.2f} (should route to normal priority)\")\n",
    "\n",
    "probe_agent.publish_with_guild_route(\n",
    "    payload=low_value_order,\n",
    "    topic=guild_default_topic,\n",
    ")"
   ]
  },
  {
   "cell_type": "code",
   "execution_count": null,
   "id": "a10ab71c",
   "metadata": {},
   "outputs": [],
   "source": [
    "# Check all messages to see both translations and different routing\n",
    "probe_agent.print_message_history()"
   ]
  },
  {
   "cell_type": "code",
   "execution_count": null,
   "id": "0b5f7949",
   "metadata": {},
   "outputs": [],
   "source": [
    "# Inspect the last two messages to see the transformation and routing\n",
    "messages = probe_agent.get_messages()\n",
    "print(\"Message Analysis:\")\n",
    "print(\"=\" * 50)\n",
    "\n",
    "for i, msg in enumerate(messages[-2:], 1):\n",
    "    print(f\"\\nMessage {i}:\")\n",
    "    print(f\"  Format: {msg.format}\")\n",
    "    print(f\"  Topic: {msg.topic_published_to}\")\n",
    "    print(f\"  Payload Type: {type(msg.payload).__name__}\")\n",
    "    if hasattr(msg.payload, 'total_value'):\n",
    "        print(f\"  Total Value: ${msg.payload.total_value}\")\n",
    "        print(f\"  Priority Level: {msg.payload.priority_level}\")\n",
    "        print(f\"  Check ID: {msg.payload.check_id}\")\n",
    "    print(f\"  Routing Decision: {'High Priority' if 'high_priority' in msg.topic_published_to else 'Normal Priority'}\")"
   ]
  },
  {
   "cell_type": "code",
   "execution_count": null,
   "id": "831bc258",
   "metadata": {},
   "outputs": [],
   "source": []
  }
 ],
 "metadata": {
  "kernelspec": {
   "display_name": "rusticai-python-framework-mrvUAtfg-py3.12",
   "language": "python",
   "name": "python3"
  },
  "language_info": {
   "codemirror_mode": {
    "name": "ipython",
    "version": 3
   },
   "file_extension": ".py",
   "mimetype": "text/x-python",
   "name": "python",
   "nbconvert_exporter": "python",
   "pygments_lexer": "ipython3",
   "version": "3.12.11"
  }
 },
 "nbformat": 4,
 "nbformat_minor": 5
}
