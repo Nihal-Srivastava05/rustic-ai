{
 "cells": [
  {
   "cell_type": "markdown",
   "id": "8dadd3d6",
   "metadata": {},
   "source": [
    "## Content Based Router\n",
    "\n",
    "This notebook demonstrates using `FunctionalTransformer` with a `RoutingRule` to redirect a message based on the message content.\n",
    "\n",
    "The Message is routed based on the partial `MessageRoutable` returned from JSONata expression, combining it with default values.\n",
    "\n",
    "These are the fields in MessageRoutable:\n",
    "\n",
    "- **topics** (Union[str, List[str]]): The topics to which the message should be published.\n",
    "- **recipient_list** (List[AgentTag]): List of agents tagged in the message.\n",
    "- **payload** (JsonDict): The actual content or payload of the message.\n",
    "- **format** (str): The type of the message.\n",
    "- **forward_header** (Optional[ForwardHeader]): The header for a forwarded message.\n",
    "- **context** (Optional[JsonDict]): The context of the message.\n",
    "- **enrich_with_history** (Optional[int]): The number of previous messages to include in the context.\n",
    "\n",
    "In this example, we route if based on `routing_key` in the payload.\n",
    "\n",
    "\n",
    "[ProbeAgent] --(`{\"routing_key\": \"topic_1\"}`)-> (default_topic) -> [Routing Agent/RoutingAgent:wire_message] -> (**topic_1**)\n",
    "\n",
    "[ProbeAgent] --(`{\"routing_key\": \"topic_2\"}`)-> (default_topic) -> [Routing Agent/RoutingAgent:wire_message] -> (**topic_2**)\n"
   ]
  },
  {
   "cell_type": "code",
   "execution_count": null,
   "id": "4f00c748",
   "metadata": {},
   "outputs": [],
   "source": [
    "from pydantic import BaseModel\n",
    "\n",
    "\n",
    "class CBRMessage(BaseModel):\n",
    "    routing_key: str\n",
    "    body: str"
   ]
  },
  {
   "cell_type": "code",
   "execution_count": null,
   "id": "22d33491",
   "metadata": {},
   "outputs": [],
   "source": [
    "from rustic_ai.core.agents.eip.basic_wiring_agent import BasicWiringAgent\n",
    "from rustic_ai.core.guild.builders import AgentBuilder, GuildBuilder, RouteBuilder\n",
    "from rustic_ai.core.guild.dsl import GuildTopics\n",
    "from rustic_ai.core.utils import jx\n",
    "from rustic_ai.core.utils.basic_class_utils import get_qualified_class_name\n",
    "from rustic_ai.core.utils.jexpr import JObj, JxScript\n",
    "\n",
    "guild_default_topic = GuildTopics.DEFAULT_TOPICS[0]\n",
    "\n",
    "\n",
    "routing_agent = (\n",
    "    AgentBuilder(BasicWiringAgent)\n",
    "    .set_id(\"RoutingAgent\")\n",
    "    .set_name(\"Routing Agent\")\n",
    "    .set_description(\"A content based router that routes messages based on their routing_key.\")\n",
    "    .build_spec()\n",
    ")\n",
    "\n",
    "# Create a JxScript to route message based on content\n",
    "routing_script = JxScript(\n",
    "    JObj(\n",
    "        {\n",
    "            \"topics\": jx.JExpr(\"payload\").routing_key,\n",
    "        }\n",
    "    )\n",
    ")\n",
    "\n",
    "# Create the Routing Rule for CBRMessage\n",
    "cbr_routing_rule = (\n",
    "    RouteBuilder(routing_agent)\n",
    "    .filter_on_origin(origin_message_format=get_qualified_class_name(CBRMessage))\n",
    "    .set_functional_transformer(routing_script)\n",
    "    .build()\n",
    ")\n",
    "\n",
    "# Create the Guild with the Routing Agent and the Routing Rules\n",
    "guild = (\n",
    "    GuildBuilder(\n",
    "        guild_id=\"MessageRouterGuild\",\n",
    "        guild_name=\"Message Router Guild\",\n",
    "        guild_description=\"A guild that routes messages based on their type.\",\n",
    "    )\n",
    "    .add_agent_spec(routing_agent)\n",
    "    .add_route(cbr_routing_rule)\n",
    "    .launch(\"myorg\")\n",
    ")"
   ]
  },
  {
   "cell_type": "code",
   "execution_count": null,
   "id": "60ce5b90",
   "metadata": {},
   "outputs": [],
   "source": [
    "from rustic_ai.core.agents.testutils.probe_agent import ProbeAgent\n",
    "\n",
    "probe_spec = (\n",
    "    AgentBuilder(ProbeAgent)\n",
    "    .set_id(\"ProbeAgent\")\n",
    "    .set_name(\"Probe Agent\")\n",
    "    .set_description(\"A probe agent to test the routing of messages.\")\n",
    "    .add_additional_topic(\"topic_1\")\n",
    "    .add_additional_topic(\"topic_2\")\n",
    "    .build_spec()\n",
    ")\n",
    "\n",
    "probe_agent: ProbeAgent = guild._add_local_agent(probe_spec)  # type: ignore"
   ]
  },
  {
   "cell_type": "code",
   "execution_count": null,
   "id": "043fbc6a",
   "metadata": {},
   "outputs": [],
   "source": [
    "probe_agent.publish_with_guild_route(\n",
    "    payload=CBRMessage(routing_key=\"topic_1\", body=\"This is a message for topic 1\"),\n",
    "    topic=guild_default_topic,\n",
    ")"
   ]
  },
  {
   "cell_type": "code",
   "execution_count": null,
   "id": "64b8b072",
   "metadata": {},
   "outputs": [],
   "source": [
    "probe_agent.print_message_history()"
   ]
  },
  {
   "cell_type": "code",
   "execution_count": null,
   "id": "53ff5d98",
   "metadata": {},
   "outputs": [],
   "source": [
    "probe_agent.publish_with_guild_route(\n",
    "    payload=CBRMessage(routing_key=\"topic_2\", body=\"This is a message for topic 1\"),\n",
    "    topic=guild_default_topic,\n",
    ")"
   ]
  },
  {
   "cell_type": "code",
   "execution_count": null,
   "id": "2177c408",
   "metadata": {},
   "outputs": [],
   "source": [
    "probe_agent.print_message_history()"
   ]
  },
  {
   "cell_type": "code",
   "execution_count": null,
   "id": "b0de8e35",
   "metadata": {},
   "outputs": [],
   "source": []
  }
 ],
 "metadata": {
  "kernelspec": {
   "display_name": "rusticai-python-framework-mrvUAtfg-py3.12",
   "language": "python",
   "name": "python3"
  },
  "language_info": {
   "codemirror_mode": {
    "name": "ipython",
    "version": 3
   },
   "file_extension": ".py",
   "mimetype": "text/x-python",
   "name": "python",
   "nbconvert_exporter": "python",
   "pygments_lexer": "ipython3",
   "version": "3.12.11"
  }
 },
 "nbformat": 4,
 "nbformat_minor": 5
}
