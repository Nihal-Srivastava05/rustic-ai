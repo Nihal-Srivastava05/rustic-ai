{
 "cells": [
  {
   "cell_type": "markdown",
   "id": "2bad7952",
   "metadata": {},
   "source": [
    "## Scatter-Gather Pattern\n",
    "\n",
    "This notebook demonstrates the **Scatter-Gather** Enterprise Integration Pattern (EIP) using Rustic AI agents. \n",
    "\n",
    "The Scatter-Gather pattern sends a message to multiple recipients and aggregates the responses back into a single message. This is useful for:\n",
    "- Collecting data from multiple sources\n",
    "- Running parallel analysis tasks  \n",
    "- Distributed processing with consolidation\n",
    "\n",
    "### Pattern Flow\n",
    "\n",
    "**1→3→1 Message Flow:**\n",
    "\n",
    "```\n",
    "[ProbeAgent] --AnalysisRequest--> (analysis_requests) \n",
    "                    ↓ SCATTER PHASE\n",
    "    [ScatterAgent] routes to 3 specialized agents:\n",
    "    ├── StatisticsAgent: Computes mean, median, std dev\n",
    "    ├── TrendAgent: Analyzes data trends and slopes  \n",
    "    └── AnomalyAgent: Detects outliers using 2-sigma rule\n",
    "                    ↓ GATHER PHASE\n",
    "    [AggregatingAgent] collects all 3 responses by correlation_id\n",
    "                    ↓ \n",
    "    [ReportAgent] generates comprehensive analysis report\n",
    "```\n",
    "\n",
    "### Key Components\n",
    "\n",
    "- **ScatterAgent**: Routes analysis requests to multiple specialized agents\n",
    "- **AggregatingAgent**: Collects and correlates responses using the new EIP component\n",
    "- **Collector Strategies**: Uses `DictCollector` to deduplicate by analysis type\n",
    "- **Correlation Tracking**: Maintains request-response correlation across the flow"
   ]
  },
  {
   "cell_type": "markdown",
   "id": "bd7ab800",
   "metadata": {},
   "source": [
    "### Message Types\n",
    "\n",
    "First, let's define the message models for our scatter-gather pattern. We have:\n",
    "- **Request messages**: For scattering to different analysis agents\n",
    "- **Result messages**: For gathering responses back\n",
    "- **Report message**: For the final comprehensive analysis\n",
    "\n",
    "Look at [scatter_gather_models.py](./helpers/scatter_gather_models.py) for the messages."
   ]
  },
  {
   "cell_type": "markdown",
   "id": "f64a7a18",
   "metadata": {},
   "source": [
    "### Analysis and Report Generation Agents\n",
    "\n",
    "These are the specialized domain specific agents that perform duties for the overall analysis task.\n",
    "\n",
    "There are 3 Analysis Agents:\n",
    "- Statistical Analysis\n",
    "- Trend Analysis\n",
    "- Anomaly Analysis\n",
    "\n",
    "And one Reporting Agent.\n",
    "\n",
    "Look at [scatter_gather_agents.py](./helpers/scatter_gather_agents.py) for details."
   ]
  },
  {
   "cell_type": "markdown",
   "id": "4d2a5df9",
   "metadata": {},
   "source": [
    "### Guild Creation\n",
    "\n",
    "Now let's create the guild that orchestrates our scatter-gather pattern with all agents and routing rules."
   ]
  },
  {
   "cell_type": "code",
   "execution_count": null,
   "id": "0592bae0",
   "metadata": {},
   "outputs": [],
   "source": [
    "# Build the scatter-gather guild with bootstrap for state management\n",
    "import os\n",
    "\n",
    "from rustic_ai.core.guild.builders import GuildBuilder\n",
    "from rustic_ai.core.guild.metastore.database import Metastore\n",
    "\n",
    "guild_builder = GuildBuilder.from_yaml_file(\"./006_scatter_gather.yaml\")\n",
    "\n",
    "# Bootstrap the guild so we have GuildManager for state management\n",
    "db = \"sqlite:///scatter_gather_demo.db\"\n",
    "# if file exists db delete it\n",
    "\n",
    "\n",
    "if os.path.exists(\"scatter_gather_demo.db\"):\n",
    "    os.remove(\"scatter_gather_demo.db\")\n",
    "\n",
    "Metastore.initialize_engine(db)\n",
    "Metastore.get_engine(db)\n",
    "Metastore.create_db()\n",
    "guild = guild_builder.bootstrap(metastore_database_url=db, organization_id=\"myorg\")  # Use SQLite for simplicity"
   ]
  },
  {
   "cell_type": "markdown",
   "id": "a1b79151",
   "metadata": {},
   "source": [
    "### Probe Agent Setup\n",
    "\n",
    "Let's create a probe agent to monitor the entire scatter-gather flow and test the pattern."
   ]
  },
  {
   "cell_type": "code",
   "execution_count": null,
   "id": "26fb14cd",
   "metadata": {},
   "outputs": [],
   "source": [
    "import time\n",
    "\n",
    "from rustic_ai.core.agents.testutils.probe_agent import ProbeAgent\n",
    "from rustic_ai.core.guild.builders import AgentBuilder\n",
    "\n",
    "time.sleep(2)\n",
    "\n",
    "# Create probe agent to monitor the entire flow\n",
    "probe_agent = (\n",
    "    AgentBuilder(ProbeAgent)\n",
    "    .set_id(\"TestProbe\")\n",
    "    .set_name(\"Test Probe Agent\")\n",
    "    .set_description(\"Monitors the entire scatter-gather flow\")\n",
    "    .add_additional_topic(\"analysis_requests\")  # Initial requests\n",
    "    .add_additional_topic(\"statistics_analysis\")  # Scattered requests\n",
    "    .add_additional_topic(\"trend_analysis\")\n",
    "    .add_additional_topic(\"anomaly_analysis\")\n",
    "    .add_additional_topic(\"analysis_results\")  # Individual analysis results\n",
    "    .add_additional_topic(\"aggregated_results\")  # Aggregated results\n",
    "    .add_additional_topic(\"final_reports\")  # Final comprehensive reports\n",
    "    .build()\n",
    ")\n",
    "\n",
    "# Add probe agent to the bootstrapped guild\n",
    "guild._add_local_agent(probe_agent)"
   ]
  },
  {
   "cell_type": "code",
   "execution_count": null,
   "id": "97746369",
   "metadata": {},
   "outputs": [],
   "source": [
    "from rustic_ai.core.agents.testutils.probe_agent import EssentialProbeAgent\n",
    "from rustic_ai.core.guild.dsl import GuildTopics\n",
    "\n",
    "\n",
    "system_probe = (\n",
    "    AgentBuilder(EssentialProbeAgent)\n",
    "    .set_id(\"SystemProbe\")\n",
    "    .set_name(\"System Probe Agent\")\n",
    "    .set_description(\"Monitors the system topic\")\n",
    "    .add_additional_topic(GuildTopics.SYSTEM_TOPIC)  # Subscribe to system messages\n",
    "    .build()\n",
    ")"
   ]
  },
  {
   "cell_type": "markdown",
   "id": "3e25c277",
   "metadata": {},
   "source": [
    "### Testing the Scatter-Gather Pattern\n",
    "\n",
    "Now let's test our complete scatter-gather implementation with sample data."
   ]
  },
  {
   "cell_type": "code",
   "execution_count": null,
   "id": "2a37102b",
   "metadata": {},
   "outputs": [],
   "source": [
    "# Create test data for analysis\n",
    "import uuid\n",
    "\n",
    "from helpers.scatter_gather_models import AnalysisRequest\n",
    "\n",
    "test_request = AnalysisRequest(\n",
    "    request_id=str(uuid.uuid4()),\n",
    "    dataset=[100.0, 120.0, 95.0, 110.0, 130.0, 85.0, 140.0, 105.0],\n",
    "    query=\"Comprehensive data analysis\",\n",
    ")\n",
    "\n",
    "print(f\"Sending AnalysisRequest with ID: {test_request.request_id}\")\n",
    "print(f\"Dataset: {test_request.dataset}\")\n",
    "\n",
    "# Send through probe agent to trigger the scatter-gather flow\n",
    "probe_agent.publish_with_guild_route(topic=\"analysis_requests\", payload=test_request)"
   ]
  },
  {
   "cell_type": "code",
   "execution_count": null,
   "id": "c5b6b359",
   "metadata": {},
   "outputs": [],
   "source": [
    "# Let's check the message history to see the complete flow\n",
    "probe_agent.print_all_history()"
   ]
  },
  {
   "cell_type": "code",
   "execution_count": null,
   "id": "320995ed",
   "metadata": {},
   "outputs": [],
   "source": [
    "probe_agent.get_messages()"
   ]
  },
  {
   "cell_type": "code",
   "execution_count": null,
   "id": "b9223db2",
   "metadata": {},
   "outputs": [],
   "source": [
    "probe_agent._client._messaging.get_messages_for_topic_since(\n",
    "    topic=GuildTopics.STATE_TOPIC,\n",
    "    msg_id_since=0\n",
    ")"
   ]
  },
  {
   "cell_type": "markdown",
   "id": "eb26259b",
   "metadata": {},
   "source": [
    "### Pattern Summary\n",
    "\n",
    "This notebook demonstrated the **Scatter-Gather** Enterprise Integration Pattern using Rustic AI:\n",
    "\n",
    "#### Key Features Implemented:\n",
    "1. **Scatter Phase**: Single `AnalysisRequest` routed to 3 specialized analysis agents\n",
    "2. **Parallel Processing**: Statistics, trend, and anomaly analysis run concurrently  \n",
    "3. **Gather Phase**: `AggregatingAgent` correlates and collects all responses\n",
    "4. **Final Processing**: `ReportAgent` creates comprehensive analysis report\n",
    "\n",
    "#### EIP Components Used:\n",
    "- **BasicWiringAgent**: For message routing and scattering\n",
    "- **AggregatingAgent**: For correlation-based message aggregation\n",
    "- **DictCollector**: For deduplication by analysis type\n",
    "- **CountingAggregator**: To wait for exactly 3 responses\n",
    "- **Payload Transformers**: JxScript transformations for message adaptation\n",
    "\n",
    "#### Message Flow:\n",
    "```\n",
    "1 Request → 3 Parallel Analyses → 1 Aggregated Result → 1 Final Report\n",
    "```\n",
    "\n",
    "This pattern is essential for distributed processing scenarios where you need to:\n",
    "- Collect data from multiple sources\n",
    "- Run parallel computations\n",
    "- Aggregate results maintaining correlation\n",
    "- Generate consolidated reports\n",
    "\n",
    "The implementation showcases reusable EIP components that can be adapted for various scatter-gather scenarios."
   ]
  },
  {
   "cell_type": "code",
   "execution_count": null,
   "id": "e2bd8b3d",
   "metadata": {},
   "outputs": [],
   "source": [
    "from rustic_ai.core.agents.system.models import StopGuildRequest\n",
    "\n",
    "\n",
    "probe_agent.publish_with_guild_route(\n",
    "    topic=GuildTopics.SYSTEM_TOPIC, payload=StopGuildRequest(guild_id=guild.id)\n",
    ")  # Send the test request to start the flow\n",
    "\n",
    "guild.shutdown()"
   ]
  },
  {
   "cell_type": "code",
   "execution_count": null,
   "id": "9acd8b1c",
   "metadata": {},
   "outputs": [],
   "source": []
  }
 ],
 "metadata": {
  "kernelspec": {
   "display_name": "rusticai-python-framework-mrvUAtfg-py3.12",
   "language": "python",
   "name": "python3"
  },
  "language_info": {
   "codemirror_mode": {
    "name": "ipython",
    "version": 3
   },
   "file_extension": ".py",
   "mimetype": "text/x-python",
   "name": "python",
   "nbconvert_exporter": "python",
   "pygments_lexer": "ipython3",
   "version": "3.12.11"
  }
 },
 "nbformat": 4,
 "nbformat_minor": 5
}
